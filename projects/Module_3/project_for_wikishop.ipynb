{
 "cells": [
  {
   "cell_type": "markdown",
   "source": [
    "<h1>Содержание<span class=\"tocSkip\"></span></h1>\n",
    "<div class=\"toc\"><ul class=\"toc-item\"><li><span><a href=\"#Подготовка\" data-toc-modified-id=\"Подготовка-1\"><span class=\"toc-item-num\">1&nbsp;&nbsp;</span>Подготовка</a></span><ul class=\"toc-item\"><li><span><a href=\"#Импортируем-необходимые-библиотеки\" data-toc-modified-id=\"Импортируем-необходимые-библиотеки-1.1\"><span class=\"toc-item-num\">1.1&nbsp;&nbsp;</span>Импортируем необходимые библиотеки</a></span></li><li><span><a href=\"#Посмортим-общую-информацию-о-датасете:\" data-toc-modified-id=\"Посмортим-общую-информацию-о-датасете:-1.2\"><span class=\"toc-item-num\">1.2&nbsp;&nbsp;</span>Посмортим общую информацию о датасете:</a></span></li><li><span><a href=\"#Пропуски:\" data-toc-modified-id=\"Пропуски:-1.3\"><span class=\"toc-item-num\">1.3&nbsp;&nbsp;</span>Пропуски:</a></span></li><li><span><a href=\"#Посмотрим-на-дисбаланс-классов\" data-toc-modified-id=\"Посмотрим-на-дисбаланс-классов-1.4\"><span class=\"toc-item-num\">1.4&nbsp;&nbsp;</span>Посмотрим на дисбаланс классов</a></span></li></ul></li><li><span><a href=\"#Обучение\" data-toc-modified-id=\"Обучение-2\"><span class=\"toc-item-num\">2&nbsp;&nbsp;</span>Обучение</a></span><ul class=\"toc-item\"><li><span><a href=\"#Логистическая-регрессия-(с-гридсёрчем)\" data-toc-modified-id=\"Логистическая-регрессия-(с-гридсёрчем)-2.1\"><span class=\"toc-item-num\">2.1&nbsp;&nbsp;</span>Логистическая регрессия (с гридсёрчем)</a></span></li><li><span><a href=\"#CatBoost-(обучал-на-GPU)\" data-toc-modified-id=\"CatBoost-(обучал-на-GPU)-2.2\"><span class=\"toc-item-num\">2.2&nbsp;&nbsp;</span>CatBoost (обучал на GPU)</a></span></li><li><span><a href=\"#Dummyclassifier\" data-toc-modified-id=\"Dummyclassifier-2.3\"><span class=\"toc-item-num\">2.3&nbsp;&nbsp;</span>Dummyclassifier</a></span></li></ul></li><li><span><a href=\"#Чек-лист-проверки\" data-toc-modified-id=\"Чек-лист-проверки-3\"><span class=\"toc-item-num\">3&nbsp;&nbsp;</span>Чек-лист проверки</a></span></li></ul></div>"
   ],
   "metadata": {
    "collapsed": false
   }
  },
  {
   "cell_type": "markdown",
   "metadata": {},
   "source": [
    "# Проект для «Викишоп» с toxic-bert"
   ]
  },
  {
   "cell_type": "markdown",
   "source": [
    "Интернет-магазин «Викишоп» запускает новый сервис. Теперь пользователи могут редактировать и дополнять описания товаров, как в вики-сообществах. То есть клиенты предлагают свои правки и комментируют изменения других. Магазину нужен инструмент, который будет искать токсичные комментарии и отправлять их на модерацию."
   ],
   "metadata": {
    "collapsed": false
   }
  },
  {
   "cell_type": "markdown",
   "source": [
    "### Цель"
   ],
   "metadata": {
    "collapsed": false
   }
  },
  {
   "cell_type": "markdown",
   "source": [
    "Необходимо обучить модель классифицировать комментарии на позитивные и негативные."
   ],
   "metadata": {
    "collapsed": false
   }
  },
  {
   "cell_type": "markdown",
   "source": [
    "### Описание данных"
   ],
   "metadata": {
    "collapsed": false
   }
  },
  {
   "cell_type": "markdown",
   "source": [
    "Столбец *text* в нём содержит текст комментария, а *toxic* — целевой признак."
   ],
   "metadata": {
    "collapsed": false
   }
  },
  {
   "cell_type": "markdown",
   "metadata": {},
   "source": [
    "## Подготовка"
   ]
  },
  {
   "cell_type": "markdown",
   "metadata": {},
   "source": [
    "### Импортируем необходимые библиотеки"
   ]
  },
  {
   "cell_type": "code",
   "execution_count": 28,
   "metadata": {
    "trusted": false
   },
   "outputs": [],
   "source": [
    "import gc\n",
    "from string import punctuation\n",
    "\n",
    "import matplotlib.pyplot as plt\n",
    "import nltk\n",
    "import numpy as np\n",
    "import pandas as pd\n",
    "import torch\n",
    "from IPython.display import display\n",
    "from catboost import CatBoostClassifier\n",
    "from wordcloud import WordCloud\n",
    "from nltk.tokenize import word_tokenize\n",
    "from nltk.corpus import stopwords\n",
    "from nltk.probability import FreqDist\n",
    "from sklearn.dummy import DummyClassifier\n",
    "from sklearn.linear_model import LogisticRegression\n",
    "from sklearn.metrics import f1_score, accuracy_score\n",
    "from sklearn.model_selection import GridSearchCV, train_test_split\n",
    "from tqdm import notebook\n",
    "from transformers import AutoModel, AutoTokenizer"
   ]
  },
  {
   "cell_type": "markdown",
   "source": [
    "### Считываем данные"
   ],
   "metadata": {
    "collapsed": false
   }
  },
  {
   "cell_type": "code",
   "execution_count": 29,
   "metadata": {
    "trusted": false
   },
   "outputs": [],
   "source": [
    "try:\n",
    "    data = pd.read_csv('C:/Users/dmitr/Jupiter_Notebook/datasets/Module_3/toxic_comments.csv', index_col=0)\n",
    "except:\n",
    "    data = pd.read_csv('/datasets/toxic_comments.csv', index_col=0)"
   ]
  },
  {
   "cell_type": "markdown",
   "metadata": {},
   "source": [
    "### Посмортим общую информацию о датасете:"
   ]
  },
  {
   "cell_type": "code",
   "execution_count": 30,
   "metadata": {
    "trusted": false
   },
   "outputs": [
    {
     "name": "stdout",
     "output_type": "stream",
     "text": [
      "<class 'pandas.core.frame.DataFrame'>\n",
      "Int64Index: 159292 entries, 0 to 159450\n",
      "Data columns (total 2 columns):\n",
      " #   Column  Non-Null Count   Dtype \n",
      "---  ------  --------------   ----- \n",
      " 0   text    159292 non-null  object\n",
      " 1   toxic   159292 non-null  int64 \n",
      "dtypes: int64(1), object(1)\n",
      "memory usage: 3.6+ MB\n"
     ]
    },
    {
     "data": {
      "text/plain": "None"
     },
     "metadata": {},
     "output_type": "display_data"
    },
    {
     "data": {
      "text/plain": "                                                     text  toxic\n109583  Expert Categorizers  \\n\\nWhy is there no menti...      0\n105077                     \"\\n\\n Noise \\n\\nfart*  talk. \"      1\n82244   An indefinite block is appropriate, even for a...      0\n18740   I don't understand why we have a screenshot of...      0\n128310  Hello! Some of the people, places or things yo...      0",
      "text/html": "<div>\n<style scoped>\n    .dataframe tbody tr th:only-of-type {\n        vertical-align: middle;\n    }\n\n    .dataframe tbody tr th {\n        vertical-align: top;\n    }\n\n    .dataframe thead th {\n        text-align: right;\n    }\n</style>\n<table border=\"1\" class=\"dataframe\">\n  <thead>\n    <tr style=\"text-align: right;\">\n      <th></th>\n      <th>text</th>\n      <th>toxic</th>\n    </tr>\n  </thead>\n  <tbody>\n    <tr>\n      <th>109583</th>\n      <td>Expert Categorizers  \\n\\nWhy is there no menti...</td>\n      <td>0</td>\n    </tr>\n    <tr>\n      <th>105077</th>\n      <td>\"\\n\\n Noise \\n\\nfart*  talk. \"</td>\n      <td>1</td>\n    </tr>\n    <tr>\n      <th>82244</th>\n      <td>An indefinite block is appropriate, even for a...</td>\n      <td>0</td>\n    </tr>\n    <tr>\n      <th>18740</th>\n      <td>I don't understand why we have a screenshot of...</td>\n      <td>0</td>\n    </tr>\n    <tr>\n      <th>128310</th>\n      <td>Hello! Some of the people, places or things yo...</td>\n      <td>0</td>\n    </tr>\n  </tbody>\n</table>\n</div>"
     },
     "metadata": {},
     "output_type": "display_data"
    }
   ],
   "source": [
    "display(data.info())\n",
    "display(data.sample(5, random_state=12345))"
   ]
  },
  {
   "cell_type": "markdown",
   "metadata": {},
   "source": [
    "### Пропуски:"
   ]
  },
  {
   "cell_type": "code",
   "execution_count": 31,
   "metadata": {
    "trusted": false
   },
   "outputs": [
    {
     "name": "stdout",
     "output_type": "stream",
     "text": [
      "Empty DataFrame\n",
      "Columns: [text, toxic]\n",
      "Index: []\n",
      "Empty DataFrame\n",
      "Columns: [text, toxic]\n",
      "Index: []\n"
     ]
    }
   ],
   "source": [
    "print(data[data['toxic'].isna()])\n",
    "print(data[data['text'].isna()])"
   ]
  },
  {
   "cell_type": "markdown",
   "metadata": {},
   "source": [
    "Пропусков в датасете нет."
   ]
  },
  {
   "cell_type": "markdown",
   "metadata": {},
   "source": [
    "### Посмотрим на дисбаланс классов"
   ]
  },
  {
   "cell_type": "code",
   "execution_count": 32,
   "metadata": {
    "trusted": false
   },
   "outputs": [
    {
     "name": "stdout",
     "output_type": "stream",
     "text": [
      "0    143106\n",
      "1     16186\n",
      "Name: toxic, dtype: int64\n"
     ]
    }
   ],
   "source": [
    "print(data['toxic'].value_counts())"
   ]
  },
  {
   "cell_type": "code",
   "execution_count": 33,
   "outputs": [
    {
     "name": "stdout",
     "output_type": "stream",
     "text": [
      "Index(['positive', 'toxic'], dtype='object', name='toxic')\n",
      "Index(['Ratio'], dtype='object')\n"
     ]
    },
    {
     "data": {
      "text/plain": "<Figure size 640x480 with 1 Axes>",
      "image/png": "[encoded data removed]"
     },
     "metadata": {},
     "output_type": "display_data"
    }
   ],
   "source": [
    "grouped_data = data.groupby('toxic').count()\n",
    "grouped_data.rename(index={0: 'positive', 1: 'toxic'}, columns={'text': 'Ratio'}, inplace=True)\n",
    "grouped_data.plot(kind='pie', y='Ratio', legend=True);"
   ],
   "metadata": {
    "collapsed": false
   }
  },
  {
   "cell_type": "markdown",
   "metadata": {},
   "source": [
    "Можно заметить, что токсичных комментариев примерно в 9 раз меньше, чем не токсичных, что говорит о сильном дисбалансе классов"
   ]
  },
  {
   "cell_type": "markdown",
   "source": [
    "### Построю бар и облако слов для отображения наиболее распространенных слов в твитах:"
   ],
   "metadata": {
    "collapsed": false
   }
  },
  {
   "cell_type": "markdown",
   "source": [
    "Предварительно удалю стоп слова и знаки препинания"
   ],
   "metadata": {
    "collapsed": false
   }
  },
  {
   "cell_type": "code",
   "execution_count": 34,
   "outputs": [
    {
     "name": "stderr",
     "output_type": "stream",
     "text": [
      "[nltk_data] Downloading package stopwords to\n",
      "[nltk_data]     C:\\Users\\dmitr\\AppData\\Roaming\\nltk_data...\n",
      "[nltk_data]   Package stopwords is already up-to-date!\n",
      "[nltk_data] Downloading package punkt to\n",
      "[nltk_data]     C:\\Users\\dmitr\\AppData\\Roaming\\nltk_data...\n",
      "[nltk_data]   Package punkt is already up-to-date!\n"
     ]
    }
   ],
   "source": [
    "nltk.download('stopwords')\n",
    "nltk.download('punkt')\n",
    "english_stopwords = set(stopwords.words('english'))"
   ],
   "metadata": {
    "collapsed": false
   }
  },
  {
   "cell_type": "code",
   "execution_count": 35,
   "outputs": [
    {
     "name": "stdout",
     "output_type": "stream",
     "text": [
      "{'doing', 'ma', 'won', 'mustn', \"it's\", 'few', 'o', 'during', 'can', 'our', 'each', 'above', 'up', \"shouldn't\", 'why', 'had', 'the', 'against', 'ain', 'having', 'a', 'who', 'ourselves', 'been', 'now', 'that', 'i', 've', 'himself', 'is', 'has', \"hasn't\", 'him', 'they', 'are', 'after', \"didn't\", 'wouldn', 'here', 'some', 'myself', 'out', 'with', 'too', 'once', 'shouldn', \"that'll\", 'most', 'being', 'at', 'off', 'isn', 'couldn', 'same', 'be', 'hers', 'own', 'their', \"you're\", 'wasn', 'doesn', \"wasn't\", \"won't\", \"mightn't\", 'further', 'on', 'under', 't', 'does', 'do', 'as', 'weren', 'about', 'm', 'did', 'didn', 'yourselves', 'so', 'below', 'needn', 'he', 'my', 'ours', 'such', \"couldn't\", \"shan't\", 'will', 'hasn', 'while', \"wouldn't\", 'was', 'there', \"weren't\", 'mightn', 'from', 'should', 'and', 'were', 'until', 'through', 'yourself', 'theirs', 'because', 'of', 'more', 'or', 'you', \"needn't\", 'nor', 'in', 'if', \"aren't\", \"doesn't\", 'again', 'her', 'd', 'shan', \"you've\", 'then', \"hadn't\", 'themselves', 'aren', 'haven', 'between', 'just', 'when', 'before', 'how', \"she's\", \"mustn't\", 'an', 'me', 'other', 'herself', 'am', \"haven't\", 'itself', 'to', 'she', \"you'd\", 'no', 's', \"don't\", 're', 'any', 'what', 'we', 'its', 'but', 'over', 'where', 'than', 'll', 'which', 'down', 'yours', 'don', 'them', 'very', 'y', 'only', 'hadn', 'all', 'have', 'his', 'whom', 'not', \"isn't\", 'for', 'these', 'it', 'into', \"you'll\", 'this', 'by', \"should've\", 'both', 'your', 'those'}\n"
     ]
    }
   ],
   "source": [
    "print(english_stopwords)"
   ],
   "metadata": {
    "collapsed": false
   }
  },
  {
   "cell_type": "code",
   "execution_count": 36,
   "outputs": [],
   "source": [
    "without_punctuation = [''.join([char for char in value if char not in punctuation]) for value in data['text'].values]"
   ],
   "metadata": {
    "collapsed": false
   }
  },
  {
   "cell_type": "code",
   "execution_count": 37,
   "outputs": [
    {
     "name": "stdout",
     "output_type": "stream",
     "text": [
      "159292\n"
     ]
    }
   ],
   "source": [
    "without_stopwords = [' '.join([word for word in tweet.lower().split() if word not in english_stopwords]) for tweet in\n",
    "                     without_punctuation]\n",
    "print(len(without_stopwords))"
   ],
   "metadata": {
    "collapsed": false
   }
  },
  {
   "cell_type": "code",
   "execution_count": 38,
   "outputs": [
    {
     "name": "stdout",
     "output_type": "stream",
     "text": [
      "explanation edits made username hardcore metallica fan reverted werent vandalisms closure gas voted new york dolls fac please dont remove template talk page since im retired now892053827 daww matches background colour im seemingly stuck thanks talk 2151 january 11 2016 utc hey man im really trying edit war guy constantly removing relevant information talking edits instead talk page seems care formatting actual info cant make real suggestions improvement wondered section statistics later subsection types accidents think references may need tidying exact format ie date format etc later noone else first preferences formatting style references want please let know appears backlog articles review guess may delay reviewer turns listed relevant form eg wikipediagoodarticlenominationstransport sir hero chance remember page thats congratulations well use tools well · talk cocksucker piss around work vandalism matt shirvington article reverted please dont banned sorry word nonsense offensive any\n"
     ]
    }
   ],
   "source": [
    "all_cleared_tweets = ' '.join(without_stopwords)\n",
    "print(all_cleared_tweets[:1000])"
   ],
   "metadata": {
    "collapsed": false
   }
  },
  {
   "cell_type": "code",
   "execution_count": 39,
   "outputs": [],
   "source": [
    "freq_dist = FreqDist(word.lower() for word in word_tokenize(all_cleared_tweets))"
   ],
   "metadata": {
    "collapsed": false
   }
  },
  {
   "cell_type": "code",
   "execution_count": 40,
   "outputs": [
    {
     "name": "stdout",
     "output_type": "stream",
     "text": [
      "[('article', 55306), ('page', 45468), ('wikipedia', 35503), ('talk', 30891), ('please', 29555), ('would', 29154), ('one', 27999), ('like', 27633), ('dont', 25665), ('see', 21434), ('also', 20480), ('think', 19988), ('im', 19210), ('know', 18940), ('people', 17634)]\n"
     ]
    }
   ],
   "source": [
    "print(freq_dist.most_common(15))"
   ],
   "metadata": {
    "collapsed": false
   }
  },
  {
   "cell_type": "code",
   "execution_count": 41,
   "outputs": [
    {
     "data": {
      "text/plain": "<Figure size 640x480 with 1 Axes>",
      "image/png": "[encoded data removed]"
     },
     "metadata": {},
     "output_type": "display_data"
    }
   ],
   "source": [
    "common_dict = dict(freq_dist.most_common(15))\n",
    "most_common_words_data = pd.DataFrame(data=common_dict.values(), columns=['Counts'], index=list(common_dict.keys()))\n",
    "most_common_words_data.plot(kind='barh');"
   ],
   "metadata": {
    "collapsed": false
   }
  },
  {
   "cell_type": "code",
   "execution_count": 42,
   "outputs": [],
   "source": [
    "word_cloud = WordCloud().generate(all_cleared_tweets)"
   ],
   "metadata": {
    "collapsed": false
   }
  },
  {
   "cell_type": "code",
   "execution_count": 43,
   "outputs": [
    {
     "data": {
      "text/plain": "<Figure size 640x480 with 1 Axes>",
      "image/png": "[encoded data removed]"
     },
     "metadata": {},
     "output_type": "display_data"
    }
   ],
   "source": [
    "plt.imshow(word_cloud, interpolation='bilinear')\n",
    "plt.axis('off')\n",
    "plt.show()"
   ],
   "metadata": {
    "collapsed": false
   }
  },
  {
   "cell_type": "markdown",
   "metadata": {},
   "source": [
    "## Обучение"
   ]
  },
  {
   "cell_type": "markdown",
   "metadata": {},
   "source": [
    "Загружаю предобученную модель toxic-bert, получать эмбеддинги и обучать модель буду на GPU"
   ]
  },
  {
   "cell_type": "code",
   "execution_count": 44,
   "outputs": [
    {
     "name": "stderr",
     "output_type": "stream",
     "text": [
      "Some weights of the model checkpoint at unitary/toxic-bert were not used when initializing BertModel: ['classifier.bias', 'classifier.weight']\n",
      "- This IS expected if you are initializing BertModel from the checkpoint of a model trained on another task or with another architecture (e.g. initializing a BertForSequenceClassification model from a BertForPreTraining model).\n",
      "- This IS NOT expected if you are initializing BertModel from the checkpoint of a model that you expect to be exactly identical (initializing a BertForSequenceClassification model from a BertForSequenceClassification model).\n"
     ]
    }
   ],
   "source": [
    "tokenizer = AutoTokenizer.from_pretrained('unitary/toxic-bert')\n",
    "device = torch.device('cuda' if torch.cuda.is_available() else 'cpu')\n",
    "model = AutoModel.from_pretrained('unitary/toxic-bert').to(device)"
   ],
   "metadata": {
    "collapsed": false
   }
  },
  {
   "cell_type": "code",
   "execution_count": 45,
   "metadata": {
    "trusted": false
   },
   "outputs": [],
   "source": [
    "example_data = data.copy()"
   ]
  },
  {
   "cell_type": "markdown",
   "metadata": {},
   "source": [
    "Получаю вектор токенов (лемматизация не нужна, модель предобучена и понимает формы различных слов)"
   ]
  },
  {
   "cell_type": "code",
   "execution_count": 46,
   "metadata": {
    "trusted": false
   },
   "outputs": [
    {
     "name": "stderr",
     "output_type": "stream",
     "text": [
      "Token indices sequence length is longer than the specified maximum sequence length for this model (631 > 512). Running this sequence through the model will result in indexing errors\n"
     ]
    }
   ],
   "source": [
    "tokenized = example_data['text'].apply(lambda x: tokenizer.encode(x, add_special_tokens=True))"
   ]
  },
  {
   "cell_type": "markdown",
   "metadata": {},
   "source": [
    "Применяю метод \"padding\""
   ]
  },
  {
   "cell_type": "code",
   "execution_count": 47,
   "metadata": {
    "trusted": false
   },
   "outputs": [
    {
     "name": "stdout",
     "output_type": "stream",
     "text": [
      "4950\n"
     ]
    }
   ],
   "source": [
    "max_length = -1\n",
    "for i in tokenized.values:\n",
    "    if len(i) > max_length:\n",
    "        max_length = len(i)\n",
    "print(max_length)\n",
    "padded = np.array([vector + [0] * (max_length - len(vector)) for vector in tokenized.values])"
   ]
  },
  {
   "cell_type": "code",
   "execution_count": 48,
   "metadata": {
    "trusted": false
   },
   "outputs": [
    {
     "name": "stdout",
     "output_type": "stream",
     "text": [
      "(159292, 4950)\n"
     ]
    }
   ],
   "source": [
    "print(padded.shape)"
   ]
  },
  {
   "cell_type": "markdown",
   "metadata": {},
   "source": [
    "Обращаю внимание модели, что нули не несут никакой значимой информации"
   ]
  },
  {
   "cell_type": "code",
   "execution_count": 49,
   "metadata": {
    "trusted": false
   },
   "outputs": [],
   "source": [
    "attention_mask = np.where(padded != 0, 1, 0)"
   ]
  },
  {
   "cell_type": "markdown",
   "metadata": {},
   "source": [
    "Сборщиком мусора удаляю все ненужные переменные, также очищаю вычисления, сохраненные в графическом процессоре"
   ]
  },
  {
   "cell_type": "code",
   "execution_count": 50,
   "metadata": {
    "trusted": false
   },
   "outputs": [
    {
     "data": {
      "text/plain": "0"
     },
     "execution_count": 50,
     "metadata": {},
     "output_type": "execute_result"
    }
   ],
   "source": [
    "torch.cuda.empty_cache()\n",
    "gc.collect()"
   ]
  },
  {
   "cell_type": "markdown",
   "metadata": {},
   "source": [
    "Создаю эмбеддинги"
   ]
  },
  {
   "cell_type": "code",
   "execution_count": 51,
   "metadata": {
    "trusted": false
   },
   "outputs": [
    {
     "data": {
      "text/plain": "  0%|          | 0/1593 [00:00<?, ?it/s]",
      "application/vnd.jupyter.widget-view+json": {
       "version_major": 2,
       "version_minor": 0,
       "model_id": "a631ce0091dd4c9b8ea7f1e41a36a633"
      }
     },
     "metadata": {},
     "output_type": "display_data"
    }
   ],
   "source": [
    "batch_size = 100\n",
    "embeddings = []\n",
    "for i in notebook.tqdm(range((padded.shape[0] - 1) // batch_size + 1)):\n",
    "    batch_embeddings_j = []\n",
    "    for j in range((padded.shape[1] - 1) // 512 + 1):\n",
    "        batch = torch.tensor(padded[batch_size * i:batch_size * (i + 1), j * 512:(j + 1) * 512], device=device)\n",
    "        attention_mask_batch = torch.tensor(attention_mask[batch_size * i:batch_size * (i + 1), j * 512:(j + 1) * 512],\n",
    "                                            device=device)\n",
    "        with torch.no_grad():\n",
    "            batch_embeddings = model(batch, attention_mask=attention_mask_batch)\n",
    "        batch_embeddings_j.append(batch_embeddings[0][:, 0, :].cpu().numpy())\n",
    "    embeddings.append(batch_embeddings_j)\n",
    "    torch.cuda.empty_cache()\n",
    "    gc.collect()"
   ]
  },
  {
   "cell_type": "code",
   "execution_count": 52,
   "outputs": [
    {
     "data": {
      "text/plain": "18"
     },
     "execution_count": 52,
     "metadata": {},
     "output_type": "execute_result"
    }
   ],
   "source": [
    "torch.cuda.empty_cache()\n",
    "gc.collect()"
   ],
   "metadata": {
    "collapsed": false
   }
  },
  {
   "cell_type": "code",
   "execution_count": 53,
   "metadata": {
    "trusted": false
   },
   "outputs": [
    {
     "name": "stdout",
     "output_type": "stream",
     "text": [
      "1593\n",
      "100\n",
      "[[-0.5585107  -1.0476651   0.7199489  ... -0.71159047  0.5249052\n",
      "   0.1127703 ]\n",
      " [-0.59337103 -0.9981305   0.6239386  ... -0.69221896  0.4633578\n",
      "   0.10821168]\n",
      " [-0.61220884 -0.8657579   0.7485891  ... -0.6126195   0.5090271\n",
      "   0.13732637]\n",
      " ...\n",
      " [-0.76659364 -0.995222    0.5457629  ... -0.8230476   0.39490667\n",
      "   0.22017561]\n",
      " [-0.57066506 -0.99152106  0.60527635 ... -0.6693468   0.39768806\n",
      "   0.04599227]\n",
      " [-0.35925698 -0.8368207   0.7603383  ... -0.67306453  0.45177606\n",
      "   0.1696786 ]]\n"
     ]
    }
   ],
   "source": [
    "print(len(embeddings))\n",
    "print(len(embeddings[0][0]))\n",
    "print(embeddings[0][0])"
   ]
  },
  {
   "cell_type": "code",
   "execution_count": 54,
   "metadata": {
    "trusted": false
   },
   "outputs": [
    {
     "name": "stdout",
     "output_type": "stream",
     "text": [
      "(159292, 768)\n"
     ]
    }
   ],
   "source": [
    "features = np.concatenate([embeddings[i][0] for i in range(len(embeddings))])\n",
    "print(features.shape)"
   ]
  },
  {
   "cell_type": "markdown",
   "metadata": {},
   "source": [
    "Делю данные на тренировочную и тестовую выборки"
   ]
  },
  {
   "cell_type": "code",
   "execution_count": 55,
   "metadata": {
    "trusted": false
   },
   "outputs": [
    {
     "name": "stdout",
     "output_type": "stream",
     "text": [
      "(127433, 768)\n",
      "(31859, 768)\n"
     ]
    }
   ],
   "source": [
    "features_train, features_test, target_train, target_test = train_test_split(features, example_data['toxic'],\n",
    "                                                                            test_size=0.2,\n",
    "                                                                            stratify=example_data['toxic'])\n",
    "print(features_train.shape)\n",
    "print(features_test.shape)"
   ]
  },
  {
   "cell_type": "markdown",
   "metadata": {},
   "source": [
    "### Логистическая регрессия (с гридсёрчем)"
   ]
  },
  {
   "cell_type": "code",
   "execution_count": 56,
   "metadata": {
    "trusted": false
   },
   "outputs": [],
   "source": [
    "model_lr = LogisticRegression(random_state=12345, class_weight='balanced')\n",
    "gs_lr = GridSearchCV(estimator=model_lr, param_grid={'C': np.arange(0.1, 10.2, 1.0)}, cv=5, scoring='f1', n_jobs=-1)"
   ]
  },
  {
   "cell_type": "code",
   "execution_count": 57,
   "metadata": {
    "trusted": false
   },
   "outputs": [
    {
     "name": "stderr",
     "output_type": "stream",
     "text": [
      "C:\\Users\\dmitr\\anaconda3\\lib\\site-packages\\sklearn\\linear_model\\_logistic.py:458: ConvergenceWarning: lbfgs failed to converge (status=1):\n",
      "STOP: TOTAL NO. of ITERATIONS REACHED LIMIT.\n",
      "\n",
      "Increase the number of iterations (max_iter) or scale the data as shown in:\n",
      "    https://scikit-learn.org/stable/modules/preprocessing.html\n",
      "Please also refer to the documentation for alternative solver options:\n",
      "    https://scikit-learn.org/stable/modules/linear_model.html#logistic-regression\n",
      "  n_iter_i = _check_optimize_result(\n"
     ]
    },
    {
     "data": {
      "text/plain": "GridSearchCV(cv=5,\n             estimator=LogisticRegression(class_weight='balanced',\n                                          random_state=12345),\n             n_jobs=-1,\n             param_grid={'C': array([ 0.1,  1.1,  2.1,  3.1,  4.1,  5.1,  6.1,  7.1,  8.1,  9.1, 10.1])},\n             scoring='f1')",
      "text/html": "<style>#sk-container-id-2 {color: black;background-color: white;}#sk-container-id-2 pre{padding: 0;}#sk-container-id-2 div.sk-toggleable {background-color: white;}#sk-container-id-2 label.sk-toggleable__label {cursor: pointer;display: block;width: 100%;margin-bottom: 0;padding: 0.3em;box-sizing: border-box;text-align: center;}#sk-container-id-2 label.sk-toggleable__label-arrow:before {content: \"▸\";float: left;margin-right: 0.25em;color: #696969;}#sk-container-id-2 label.sk-toggleable__label-arrow:hover:before {color: black;}#sk-container-id-2 div.sk-estimator:hover label.sk-toggleable__label-arrow:before {color: black;}#sk-container-id-2 div.sk-toggleable__content {max-height: 0;max-width: 0;overflow: hidden;text-align: left;background-color: #f0f8ff;}#sk-container-id-2 div.sk-toggleable__content pre {margin: 0.2em;color: black;border-radius: 0.25em;background-color: #f0f8ff;}#sk-container-id-2 input.sk-toggleable__control:checked~div.sk-toggleable__content {max-height: 200px;max-width: 100%;overflow: auto;}#sk-container-id-2 input.sk-toggleable__control:checked~label.sk-toggleable__label-arrow:before {content: \"▾\";}#sk-container-id-2 div.sk-estimator input.sk-toggleable__control:checked~label.sk-toggleable__label {background-color: #d4ebff;}#sk-container-id-2 div.sk-label input.sk-toggleable__control:checked~label.sk-toggleable__label {background-color: #d4ebff;}#sk-container-id-2 input.sk-hidden--visually {border: 0;clip: rect(1px 1px 1px 1px);clip: rect(1px, 1px, 1px, 1px);height: 1px;margin: -1px;overflow: hidden;padding: 0;position: absolute;width: 1px;}#sk-container-id-2 div.sk-estimator {font-family: monospace;background-color: #f0f8ff;border: 1px dotted black;border-radius: 0.25em;box-sizing: border-box;margin-bottom: 0.5em;}#sk-container-id-2 div.sk-estimator:hover {background-color: #d4ebff;}#sk-container-id-2 div.sk-parallel-item::after {content: \"\";width: 100%;border-bottom: 1px solid gray;flex-grow: 1;}#sk-container-id-2 div.sk-label:hover label.sk-toggleable__label {background-color: #d4ebff;}#sk-container-id-2 div.sk-serial::before {content: \"\";position: absolute;border-left: 1px solid gray;box-sizing: border-box;top: 0;bottom: 0;left: 50%;z-index: 0;}#sk-container-id-2 div.sk-serial {display: flex;flex-direction: column;align-items: center;background-color: white;padding-right: 0.2em;padding-left: 0.2em;position: relative;}#sk-container-id-2 div.sk-item {position: relative;z-index: 1;}#sk-container-id-2 div.sk-parallel {display: flex;align-items: stretch;justify-content: center;background-color: white;position: relative;}#sk-container-id-2 div.sk-item::before, #sk-container-id-2 div.sk-parallel-item::before {content: \"\";position: absolute;border-left: 1px solid gray;box-sizing: border-box;top: 0;bottom: 0;left: 50%;z-index: -1;}#sk-container-id-2 div.sk-parallel-item {display: flex;flex-direction: column;z-index: 1;position: relative;background-color: white;}#sk-container-id-2 div.sk-parallel-item:first-child::after {align-self: flex-end;width: 50%;}#sk-container-id-2 div.sk-parallel-item:last-child::after {align-self: flex-start;width: 50%;}#sk-container-id-2 div.sk-parallel-item:only-child::after {width: 0;}#sk-container-id-2 div.sk-dashed-wrapped {border: 1px dashed gray;margin: 0 0.4em 0.5em 0.4em;box-sizing: border-box;padding-bottom: 0.4em;background-color: white;}#sk-container-id-2 div.sk-label label {font-family: monospace;font-weight: bold;display: inline-block;line-height: 1.2em;}#sk-container-id-2 div.sk-label-container {text-align: center;}#sk-container-id-2 div.sk-container {/* jupyter's `normalize.less` sets `[hidden] { display: none; }` but bootstrap.min.css set `[hidden] { display: none !important; }` so we also need the `!important` here to be able to override the default hidden behavior on the sphinx rendered scikit-learn.org. See: https://github.com/scikit-learn/scikit-learn/issues/21755 */display: inline-block !important;position: relative;}#sk-container-id-2 div.sk-text-repr-fallback {display: none;}</style><div id=\"sk-container-id-2\" class=\"sk-top-container\"><div class=\"sk-text-repr-fallback\"><pre>GridSearchCV(cv=5,\n             estimator=LogisticRegression(class_weight=&#x27;balanced&#x27;,\n                                          random_state=12345),\n             n_jobs=-1,\n             param_grid={&#x27;C&#x27;: array([ 0.1,  1.1,  2.1,  3.1,  4.1,  5.1,  6.1,  7.1,  8.1,  9.1, 10.1])},\n             scoring=&#x27;f1&#x27;)</pre><b>In a Jupyter environment, please rerun this cell to show the HTML representation or trust the notebook. <br />On GitHub, the HTML representation is unable to render, please try loading this page with nbviewer.org.</b></div><div class=\"sk-container\" hidden><div class=\"sk-item sk-dashed-wrapped\"><div class=\"sk-label-container\"><div class=\"sk-label sk-toggleable\"><input class=\"sk-toggleable__control sk-hidden--visually\" id=\"sk-estimator-id-4\" type=\"checkbox\" ><label for=\"sk-estimator-id-4\" class=\"sk-toggleable__label sk-toggleable__label-arrow\">GridSearchCV</label><div class=\"sk-toggleable__content\"><pre>GridSearchCV(cv=5,\n             estimator=LogisticRegression(class_weight=&#x27;balanced&#x27;,\n                                          random_state=12345),\n             n_jobs=-1,\n             param_grid={&#x27;C&#x27;: array([ 0.1,  1.1,  2.1,  3.1,  4.1,  5.1,  6.1,  7.1,  8.1,  9.1, 10.1])},\n             scoring=&#x27;f1&#x27;)</pre></div></div></div><div class=\"sk-parallel\"><div class=\"sk-parallel-item\"><div class=\"sk-item\"><div class=\"sk-label-container\"><div class=\"sk-label sk-toggleable\"><input class=\"sk-toggleable__control sk-hidden--visually\" id=\"sk-estimator-id-5\" type=\"checkbox\" ><label for=\"sk-estimator-id-5\" class=\"sk-toggleable__label sk-toggleable__label-arrow\">estimator: LogisticRegression</label><div class=\"sk-toggleable__content\"><pre>LogisticRegression(class_weight=&#x27;balanced&#x27;, random_state=12345)</pre></div></div></div><div class=\"sk-serial\"><div class=\"sk-item\"><div class=\"sk-estimator sk-toggleable\"><input class=\"sk-toggleable__control sk-hidden--visually\" id=\"sk-estimator-id-6\" type=\"checkbox\" ><label for=\"sk-estimator-id-6\" class=\"sk-toggleable__label sk-toggleable__label-arrow\">LogisticRegression</label><div class=\"sk-toggleable__content\"><pre>LogisticRegression(class_weight=&#x27;balanced&#x27;, random_state=12345)</pre></div></div></div></div></div></div></div></div></div></div>"
     },
     "execution_count": 57,
     "metadata": {},
     "output_type": "execute_result"
    }
   ],
   "source": [
    "gs_lr.fit(features_train, target_train)"
   ]
  },
  {
   "cell_type": "code",
   "execution_count": 58,
   "metadata": {
    "trusted": false
   },
   "outputs": [
    {
     "name": "stdout",
     "output_type": "stream",
     "text": [
      "{'C': 2.1}\n",
      "F1_score (on training sample) for LogisticRegression: 0.925605459654965\n",
      "Accuracy (on training sample) for LogisticRegression: 0.9846821466966955\n"
     ]
    }
   ],
   "source": [
    "print(gs_lr.best_params_)\n",
    "print(f'F1_score (on training sample) for LogisticRegression: {gs_lr.best_score_}')\n",
    "print(f'Accuracy (on training sample) for LogisticRegression: {accuracy_score(target_train,gs_lr.predict(features_train))}')"
   ]
  },
  {
   "cell_type": "markdown",
   "metadata": {},
   "source": [
    "### CatBoost (обучал на GPU)"
   ]
  },
  {
   "cell_type": "code",
   "execution_count": 60,
   "outputs": [
    {
     "data": {
      "text/plain": "630"
     },
     "execution_count": 60,
     "metadata": {},
     "output_type": "execute_result"
    }
   ],
   "source": [
    "torch.cuda.empty_cache()\n",
    "gc.collect()"
   ],
   "metadata": {
    "collapsed": false
   }
  },
  {
   "cell_type": "code",
   "execution_count": 61,
   "metadata": {
    "trusted": false
   },
   "outputs": [],
   "source": [
    "model_catboost = CatBoostClassifier(eval_metric='F1', max_depth=4, iterations=1000,\n",
    "                                    task_type='GPU' if torch.cuda.is_available() else 'CPU', class_weights={0:1,1:len(example_data[example_data['toxic'] == 0])/len(example_data[example_data['toxic'] == 1])})"
   ]
  },
  {
   "cell_type": "code",
   "execution_count": 62,
   "outputs": [
    {
     "name": "stderr",
     "output_type": "stream",
     "text": [
      "Warning: less than 75% gpu memory available for training. Free: 5667 Total: 8191.5\n"
     ]
    },
    {
     "name": "stdout",
     "output_type": "stream",
     "text": [
      "Learning rate set to 0.025822\n",
      "0:\tlearn: 0.9809752\ttotal: 76.2ms\tremaining: 1m 16s\n",
      "1:\tlearn: 0.9816940\ttotal: 135ms\tremaining: 1m 7s\n",
      "2:\tlearn: 0.9820694\ttotal: 186ms\tremaining: 1m 1s\n",
      "3:\tlearn: 0.9822820\ttotal: 247ms\tremaining: 1m 1s\n",
      "4:\tlearn: 0.9823772\ttotal: 271ms\tremaining: 54s\n",
      "5:\tlearn: 0.9824954\ttotal: 287ms\tremaining: 47.6s\n",
      "6:\tlearn: 0.9824642\ttotal: 303ms\tremaining: 43s\n",
      "7:\tlearn: 0.9827267\ttotal: 318ms\tremaining: 39.4s\n",
      "8:\tlearn: 0.9830991\ttotal: 333ms\tremaining: 36.6s\n",
      "9:\tlearn: 0.9832932\ttotal: 350ms\tremaining: 34.6s\n",
      "10:\tlearn: 0.9832431\ttotal: 365ms\tremaining: 32.8s\n",
      "11:\tlearn: 0.9832908\ttotal: 380ms\tremaining: 31.3s\n",
      "12:\tlearn: 0.9833286\ttotal: 395ms\tremaining: 30s\n",
      "13:\tlearn: 0.9831564\ttotal: 410ms\tremaining: 28.9s\n",
      "14:\tlearn: 0.9832682\ttotal: 425ms\tremaining: 27.9s\n",
      "15:\tlearn: 0.9832688\ttotal: 441ms\tremaining: 27.1s\n",
      "16:\tlearn: 0.9833024\ttotal: 460ms\tremaining: 26.6s\n",
      "17:\tlearn: 0.9834374\ttotal: 475ms\tremaining: 25.9s\n",
      "18:\tlearn: 0.9835937\ttotal: 487ms\tremaining: 25.2s\n",
      "19:\tlearn: 0.9836023\ttotal: 498ms\tremaining: 24.4s\n",
      "20:\tlearn: 0.9836505\ttotal: 509ms\tremaining: 23.7s\n",
      "21:\tlearn: 0.9837103\ttotal: 520ms\tremaining: 23.1s\n",
      "22:\tlearn: 0.9836248\ttotal: 531ms\tremaining: 22.5s\n",
      "23:\tlearn: 0.9836950\ttotal: 541ms\tremaining: 22s\n",
      "24:\tlearn: 0.9837426\ttotal: 552ms\tremaining: 21.5s\n",
      "25:\tlearn: 0.9837859\ttotal: 562ms\tremaining: 21.1s\n",
      "26:\tlearn: 0.9838939\ttotal: 573ms\tremaining: 20.6s\n",
      "27:\tlearn: 0.9837756\ttotal: 584ms\tremaining: 20.3s\n",
      "28:\tlearn: 0.9838495\ttotal: 595ms\tremaining: 19.9s\n",
      "29:\tlearn: 0.9838655\ttotal: 607ms\tremaining: 19.6s\n",
      "30:\tlearn: 0.9839179\ttotal: 619ms\tremaining: 19.3s\n",
      "31:\tlearn: 0.9838826\ttotal: 630ms\tremaining: 19.1s\n",
      "32:\tlearn: 0.9838521\ttotal: 641ms\tremaining: 18.8s\n",
      "33:\tlearn: 0.9838521\ttotal: 652ms\tremaining: 18.5s\n",
      "34:\tlearn: 0.9838264\ttotal: 662ms\tremaining: 18.2s\n",
      "35:\tlearn: 0.9837873\ttotal: 675ms\tremaining: 18.1s\n",
      "36:\tlearn: 0.9839028\ttotal: 686ms\tremaining: 17.9s\n",
      "37:\tlearn: 0.9839280\ttotal: 698ms\tremaining: 17.7s\n",
      "38:\tlearn: 0.9839322\ttotal: 708ms\tremaining: 17.5s\n",
      "39:\tlearn: 0.9840044\ttotal: 719ms\tremaining: 17.3s\n",
      "40:\tlearn: 0.9839574\ttotal: 729ms\tremaining: 17.1s\n",
      "41:\tlearn: 0.9840264\ttotal: 740ms\tremaining: 16.9s\n",
      "42:\tlearn: 0.9840954\ttotal: 750ms\tremaining: 16.7s\n",
      "43:\tlearn: 0.9840553\ttotal: 759ms\tremaining: 16.5s\n",
      "44:\tlearn: 0.9840558\ttotal: 769ms\tremaining: 16.3s\n",
      "45:\tlearn: 0.9840472\ttotal: 779ms\tremaining: 16.2s\n",
      "46:\tlearn: 0.9840178\ttotal: 791ms\tremaining: 16s\n",
      "47:\tlearn: 0.9840692\ttotal: 804ms\tremaining: 15.9s\n",
      "48:\tlearn: 0.9840697\ttotal: 814ms\tremaining: 15.8s\n",
      "49:\tlearn: 0.9841596\ttotal: 824ms\tremaining: 15.7s\n",
      "50:\tlearn: 0.9841420\ttotal: 834ms\tremaining: 15.5s\n",
      "51:\tlearn: 0.9841029\ttotal: 844ms\tremaining: 15.4s\n",
      "52:\tlearn: 0.9841500\ttotal: 854ms\tremaining: 15.3s\n",
      "53:\tlearn: 0.9841329\ttotal: 864ms\tremaining: 15.1s\n",
      "54:\tlearn: 0.9841543\ttotal: 874ms\tremaining: 15s\n",
      "55:\tlearn: 0.9842062\ttotal: 883ms\tremaining: 14.9s\n",
      "56:\tlearn: 0.9842105\ttotal: 895ms\tremaining: 14.8s\n",
      "57:\tlearn: 0.9842233\ttotal: 905ms\tremaining: 14.7s\n",
      "58:\tlearn: 0.9841971\ttotal: 915ms\tremaining: 14.6s\n",
      "59:\tlearn: 0.9842490\ttotal: 925ms\tremaining: 14.5s\n",
      "60:\tlearn: 0.9842404\ttotal: 934ms\tremaining: 14.4s\n",
      "61:\tlearn: 0.9842576\ttotal: 944ms\tremaining: 14.3s\n",
      "62:\tlearn: 0.9842570\ttotal: 954ms\tremaining: 14.2s\n",
      "63:\tlearn: 0.9842699\ttotal: 963ms\tremaining: 14.1s\n",
      "64:\tlearn: 0.9842217\ttotal: 973ms\tremaining: 14s\n",
      "65:\tlearn: 0.9842174\ttotal: 984ms\tremaining: 13.9s\n",
      "66:\tlearn: 0.9842431\ttotal: 994ms\tremaining: 13.8s\n",
      "67:\tlearn: 0.9842999\ttotal: 1s\tremaining: 13.8s\n",
      "68:\tlearn: 0.9843084\ttotal: 1.01s\tremaining: 13.7s\n",
      "69:\tlearn: 0.9842908\ttotal: 1.02s\tremaining: 13.6s\n",
      "70:\tlearn: 0.9842431\ttotal: 1.03s\tremaining: 13.5s\n",
      "71:\tlearn: 0.9843074\ttotal: 1.04s\tremaining: 13.4s\n",
      "72:\tlearn: 0.9842597\ttotal: 1.05s\tremaining: 13.4s\n",
      "73:\tlearn: 0.9842983\ttotal: 1.06s\tremaining: 13.3s\n",
      "74:\tlearn: 0.9843722\ttotal: 1.07s\tremaining: 13.2s\n",
      "75:\tlearn: 0.9843716\ttotal: 1.08s\tremaining: 13.2s\n",
      "76:\tlearn: 0.9843716\ttotal: 1.09s\tremaining: 13.1s\n",
      "77:\tlearn: 0.9844321\ttotal: 1.11s\tremaining: 13.1s\n",
      "78:\tlearn: 0.9844364\ttotal: 1.12s\tremaining: 13s\n",
      "79:\tlearn: 0.9844578\ttotal: 1.13s\tremaining: 13s\n",
      "80:\tlearn: 0.9844364\ttotal: 1.14s\tremaining: 12.9s\n",
      "81:\tlearn: 0.9844407\ttotal: 1.15s\tremaining: 12.9s\n",
      "82:\tlearn: 0.9844755\ttotal: 1.16s\tremaining: 12.8s\n",
      "83:\tlearn: 0.9844755\ttotal: 1.17s\tremaining: 12.7s\n",
      "84:\tlearn: 0.9844236\ttotal: 1.18s\tremaining: 12.7s\n",
      "85:\tlearn: 0.9844755\ttotal: 1.19s\tremaining: 12.6s\n",
      "86:\tlearn: 0.9844364\ttotal: 1.2s\tremaining: 12.6s\n",
      "87:\tlearn: 0.9844450\ttotal: 1.21s\tremaining: 12.5s\n",
      "88:\tlearn: 0.9844707\ttotal: 1.22s\tremaining: 12.5s\n",
      "89:\tlearn: 0.9844793\ttotal: 1.23s\tremaining: 12.4s\n",
      "90:\tlearn: 0.9845093\ttotal: 1.24s\tremaining: 12.4s\n",
      "91:\tlearn: 0.9845050\ttotal: 1.25s\tremaining: 12.3s\n",
      "92:\tlearn: 0.9845435\ttotal: 1.26s\tremaining: 12.3s\n",
      "93:\tlearn: 0.9845693\ttotal: 1.27s\tremaining: 12.2s\n",
      "94:\tlearn: 0.9845173\ttotal: 1.28s\tremaining: 12.2s\n",
      "95:\tlearn: 0.9845345\ttotal: 1.29s\tremaining: 12.1s\n",
      "96:\tlearn: 0.9844825\ttotal: 1.3s\tremaining: 12.1s\n",
      "97:\tlearn: 0.9845173\ttotal: 1.31s\tremaining: 12s\n",
      "98:\tlearn: 0.9845387\ttotal: 1.32s\tremaining: 12s\n",
      "99:\tlearn: 0.9844911\ttotal: 1.34s\tremaining: 12s\n",
      "100:\tlearn: 0.9844777\ttotal: 1.35s\tremaining: 12s\n",
      "101:\tlearn: 0.9845211\ttotal: 1.36s\tremaining: 12s\n",
      "102:\tlearn: 0.9845425\ttotal: 1.38s\tremaining: 12s\n",
      "103:\tlearn: 0.9845168\ttotal: 1.4s\tremaining: 12s\n",
      "104:\tlearn: 0.9845554\ttotal: 1.41s\tremaining: 12s\n",
      "105:\tlearn: 0.9845468\ttotal: 1.42s\tremaining: 12s\n",
      "106:\tlearn: 0.9845768\ttotal: 1.44s\tremaining: 12s\n",
      "107:\tlearn: 0.9845506\ttotal: 1.45s\tremaining: 12s\n",
      "108:\tlearn: 0.9845940\ttotal: 1.46s\tremaining: 12s\n",
      "109:\tlearn: 0.9846111\ttotal: 1.48s\tremaining: 12s\n",
      "110:\tlearn: 0.9845329\ttotal: 1.49s\tremaining: 12s\n",
      "111:\tlearn: 0.9845329\ttotal: 1.5s\tremaining: 11.9s\n",
      "112:\tlearn: 0.9845463\ttotal: 1.52s\tremaining: 11.9s\n",
      "113:\tlearn: 0.9845506\ttotal: 1.54s\tremaining: 12s\n",
      "114:\tlearn: 0.9845415\ttotal: 1.55s\tremaining: 11.9s\n",
      "115:\tlearn: 0.9845244\ttotal: 1.56s\tremaining: 11.9s\n",
      "116:\tlearn: 0.9845281\ttotal: 1.58s\tremaining: 11.9s\n",
      "117:\tlearn: 0.9846235\ttotal: 1.59s\tremaining: 11.9s\n",
      "118:\tlearn: 0.9845539\ttotal: 1.61s\tremaining: 11.9s\n",
      "119:\tlearn: 0.9845972\ttotal: 1.62s\tremaining: 11.9s\n",
      "120:\tlearn: 0.9845539\ttotal: 1.64s\tremaining: 11.9s\n",
      "121:\tlearn: 0.9845539\ttotal: 1.65s\tremaining: 11.9s\n",
      "122:\tlearn: 0.9845839\ttotal: 1.66s\tremaining: 11.9s\n",
      "123:\tlearn: 0.9845924\ttotal: 1.68s\tremaining: 11.9s\n",
      "124:\tlearn: 0.9846272\ttotal: 1.69s\tremaining: 11.9s\n",
      "125:\tlearn: 0.9846792\ttotal: 1.71s\tremaining: 11.8s\n",
      "126:\tlearn: 0.9847354\ttotal: 1.72s\tremaining: 11.8s\n",
      "127:\tlearn: 0.9846921\ttotal: 1.74s\tremaining: 11.8s\n",
      "128:\tlearn: 0.9846615\ttotal: 1.75s\tremaining: 11.8s\n",
      "129:\tlearn: 0.9847354\ttotal: 1.76s\tremaining: 11.8s\n",
      "130:\tlearn: 0.9846744\ttotal: 1.77s\tremaining: 11.7s\n",
      "131:\tlearn: 0.9847526\ttotal: 1.78s\tremaining: 11.7s\n",
      "132:\tlearn: 0.9847178\ttotal: 1.79s\tremaining: 11.7s\n",
      "133:\tlearn: 0.9847264\ttotal: 1.8s\tremaining: 11.6s\n",
      "134:\tlearn: 0.9846873\ttotal: 1.81s\tremaining: 11.6s\n",
      "135:\tlearn: 0.9846873\ttotal: 1.82s\tremaining: 11.6s\n",
      "136:\tlearn: 0.9846525\ttotal: 1.83s\tremaining: 11.5s\n",
      "137:\tlearn: 0.9846482\ttotal: 1.84s\tremaining: 11.5s\n",
      "138:\tlearn: 0.9846610\ttotal: 1.85s\tremaining: 11.5s\n",
      "139:\tlearn: 0.9846525\ttotal: 1.86s\tremaining: 11.4s\n",
      "140:\tlearn: 0.9846568\ttotal: 1.87s\tremaining: 11.4s\n",
      "141:\tlearn: 0.9846958\ttotal: 1.88s\tremaining: 11.4s\n",
      "142:\tlearn: 0.9847349\ttotal: 1.89s\tremaining: 11.3s\n",
      "143:\tlearn: 0.9847392\ttotal: 1.9s\tremaining: 11.3s\n",
      "144:\tlearn: 0.9847912\ttotal: 1.91s\tremaining: 11.3s\n",
      "145:\tlearn: 0.9848217\ttotal: 1.92s\tremaining: 11.2s\n",
      "146:\tlearn: 0.9847997\ttotal: 1.93s\tremaining: 11.2s\n",
      "147:\tlearn: 0.9848388\ttotal: 1.95s\tremaining: 11.2s\n",
      "148:\tlearn: 0.9847650\ttotal: 1.96s\tremaining: 11.2s\n",
      "149:\tlearn: 0.9848303\ttotal: 1.98s\tremaining: 11.2s\n",
      "150:\tlearn: 0.9848260\ttotal: 1.99s\tremaining: 11.2s\n",
      "151:\tlearn: 0.9847997\ttotal: 2s\tremaining: 11.2s\n",
      "152:\tlearn: 0.9848431\ttotal: 2.01s\tremaining: 11.1s\n",
      "153:\tlearn: 0.9848474\ttotal: 2.02s\tremaining: 11.1s\n",
      "154:\tlearn: 0.9848126\ttotal: 2.03s\tremaining: 11.1s\n",
      "155:\tlearn: 0.9848255\ttotal: 2.04s\tremaining: 11.1s\n",
      "156:\tlearn: 0.9848646\ttotal: 2.05s\tremaining: 11s\n",
      "157:\tlearn: 0.9849122\ttotal: 2.06s\tremaining: 11s\n",
      "158:\tlearn: 0.9849208\ttotal: 2.07s\tremaining: 11s\n",
      "159:\tlearn: 0.9849251\ttotal: 2.08s\tremaining: 10.9s\n",
      "160:\tlearn: 0.9849251\ttotal: 2.09s\tremaining: 10.9s\n",
      "161:\tlearn: 0.9849208\ttotal: 2.1s\tremaining: 10.9s\n",
      "162:\tlearn: 0.9848946\ttotal: 2.11s\tremaining: 10.8s\n",
      "163:\tlearn: 0.9849684\ttotal: 2.12s\tremaining: 10.8s\n",
      "164:\tlearn: 0.9850552\ttotal: 2.13s\tremaining: 10.8s\n",
      "165:\tlearn: 0.9850552\ttotal: 2.15s\tremaining: 10.8s\n",
      "166:\tlearn: 0.9850509\ttotal: 2.16s\tremaining: 10.8s\n",
      "167:\tlearn: 0.9850595\ttotal: 2.17s\tremaining: 10.8s\n",
      "168:\tlearn: 0.9850595\ttotal: 2.19s\tremaining: 10.8s\n",
      "169:\tlearn: 0.9850680\ttotal: 2.2s\tremaining: 10.8s\n",
      "170:\tlearn: 0.9851243\ttotal: 2.21s\tremaining: 10.7s\n",
      "171:\tlearn: 0.9851676\ttotal: 2.23s\tremaining: 10.7s\n",
      "172:\tlearn: 0.9852067\ttotal: 2.23s\tremaining: 10.7s\n",
      "173:\tlearn: 0.9852543\ttotal: 2.25s\tremaining: 10.7s\n",
      "174:\tlearn: 0.9852153\ttotal: 2.25s\tremaining: 10.6s\n",
      "175:\tlearn: 0.9852586\ttotal: 2.26s\tremaining: 10.6s\n",
      "176:\tlearn: 0.9852543\ttotal: 2.27s\tremaining: 10.6s\n",
      "177:\tlearn: 0.9852629\ttotal: 2.28s\tremaining: 10.5s\n",
      "178:\tlearn: 0.9853062\ttotal: 2.29s\tremaining: 10.5s\n",
      "179:\tlearn: 0.9852800\ttotal: 2.3s\tremaining: 10.5s\n",
      "180:\tlearn: 0.9852800\ttotal: 2.31s\tremaining: 10.5s\n",
      "181:\tlearn: 0.9852800\ttotal: 2.32s\tremaining: 10.4s\n",
      "182:\tlearn: 0.9852324\ttotal: 2.33s\tremaining: 10.4s\n",
      "183:\tlearn: 0.9852453\ttotal: 2.34s\tremaining: 10.4s\n",
      "184:\tlearn: 0.9852800\ttotal: 2.36s\tremaining: 10.4s\n",
      "185:\tlearn: 0.9853058\ttotal: 2.37s\tremaining: 10.4s\n",
      "186:\tlearn: 0.9853058\ttotal: 2.38s\tremaining: 10.4s\n",
      "187:\tlearn: 0.9852710\ttotal: 2.4s\tremaining: 10.4s\n",
      "188:\tlearn: 0.9852796\ttotal: 2.41s\tremaining: 10.4s\n",
      "189:\tlearn: 0.9852925\ttotal: 2.43s\tremaining: 10.3s\n",
      "190:\tlearn: 0.9852882\ttotal: 2.44s\tremaining: 10.3s\n",
      "191:\tlearn: 0.9852925\ttotal: 2.45s\tremaining: 10.3s\n",
      "192:\tlearn: 0.9853444\ttotal: 2.46s\tremaining: 10.3s\n",
      "193:\tlearn: 0.9853182\ttotal: 2.47s\tremaining: 10.2s\n",
      "194:\tlearn: 0.9853225\ttotal: 2.48s\tremaining: 10.2s\n",
      "195:\tlearn: 0.9853573\ttotal: 2.49s\tremaining: 10.2s\n",
      "196:\tlearn: 0.9853658\ttotal: 2.5s\tremaining: 10.2s\n",
      "197:\tlearn: 0.9853268\ttotal: 2.5s\tremaining: 10.2s\n",
      "198:\tlearn: 0.9853658\ttotal: 2.52s\tremaining: 10.1s\n",
      "199:\tlearn: 0.9853658\ttotal: 2.52s\tremaining: 10.1s\n",
      "200:\tlearn: 0.9853744\ttotal: 2.54s\tremaining: 10.1s\n",
      "201:\tlearn: 0.9854306\ttotal: 2.54s\tremaining: 10.1s\n",
      "202:\tlearn: 0.9854697\ttotal: 2.56s\tremaining: 10s\n",
      "203:\tlearn: 0.9854783\ttotal: 2.56s\tremaining: 10s\n",
      "204:\tlearn: 0.9854783\ttotal: 2.58s\tremaining: 9.99s\n",
      "205:\tlearn: 0.9854740\ttotal: 2.58s\tremaining: 9.97s\n",
      "206:\tlearn: 0.9854697\ttotal: 2.6s\tremaining: 9.94s\n",
      "207:\tlearn: 0.9855087\ttotal: 2.6s\tremaining: 9.92s\n",
      "208:\tlearn: 0.9855087\ttotal: 2.62s\tremaining: 9.9s\n",
      "209:\tlearn: 0.9855045\ttotal: 2.62s\tremaining: 9.87s\n",
      "210:\tlearn: 0.9855087\ttotal: 2.63s\tremaining: 9.86s\n",
      "211:\tlearn: 0.9855259\ttotal: 2.65s\tremaining: 9.83s\n",
      "212:\tlearn: 0.9855259\ttotal: 2.66s\tremaining: 9.81s\n",
      "213:\tlearn: 0.9855259\ttotal: 2.67s\tremaining: 9.79s\n",
      "214:\tlearn: 0.9855302\ttotal: 2.67s\tremaining: 9.77s\n",
      "215:\tlearn: 0.9855259\ttotal: 2.69s\tremaining: 9.75s\n",
      "216:\tlearn: 0.9855431\ttotal: 2.69s\tremaining: 9.73s\n",
      "217:\tlearn: 0.9855431\ttotal: 2.71s\tremaining: 9.7s\n",
      "218:\tlearn: 0.9855388\ttotal: 2.71s\tremaining: 9.68s\n",
      "219:\tlearn: 0.9855388\ttotal: 2.73s\tremaining: 9.66s\n",
      "220:\tlearn: 0.9855474\ttotal: 2.73s\tremaining: 9.64s\n",
      "221:\tlearn: 0.9855559\ttotal: 2.74s\tremaining: 9.62s\n",
      "222:\tlearn: 0.9855645\ttotal: 2.75s\tremaining: 9.6s\n",
      "223:\tlearn: 0.9855774\ttotal: 2.76s\tremaining: 9.57s\n",
      "224:\tlearn: 0.9856164\ttotal: 2.77s\tremaining: 9.55s\n",
      "225:\tlearn: 0.9856469\ttotal: 2.78s\tremaining: 9.53s\n",
      "226:\tlearn: 0.9856555\ttotal: 2.79s\tremaining: 9.52s\n",
      "227:\tlearn: 0.9856555\ttotal: 2.81s\tremaining: 9.5s\n",
      "228:\tlearn: 0.9856512\ttotal: 2.81s\tremaining: 9.48s\n",
      "229:\tlearn: 0.9856774\ttotal: 2.85s\tremaining: 9.53s\n",
      "230:\tlearn: 0.9856817\ttotal: 2.86s\tremaining: 9.51s\n",
      "231:\tlearn: 0.9856945\ttotal: 2.87s\tremaining: 9.49s\n",
      "232:\tlearn: 0.9857160\ttotal: 2.88s\tremaining: 9.47s\n",
      "233:\tlearn: 0.9857246\ttotal: 2.89s\tremaining: 9.45s\n",
      "234:\tlearn: 0.9857160\ttotal: 2.9s\tremaining: 9.43s\n",
      "235:\tlearn: 0.9857160\ttotal: 2.9s\tremaining: 9.41s\n",
      "236:\tlearn: 0.9857246\ttotal: 2.92s\tremaining: 9.39s\n",
      "237:\tlearn: 0.9857289\ttotal: 2.92s\tremaining: 9.37s\n",
      "238:\tlearn: 0.9857289\ttotal: 2.94s\tremaining: 9.35s\n",
      "239:\tlearn: 0.9857331\ttotal: 2.94s\tremaining: 9.32s\n",
      "240:\tlearn: 0.9857460\ttotal: 2.95s\tremaining: 9.31s\n",
      "241:\tlearn: 0.9857417\ttotal: 2.96s\tremaining: 9.29s\n",
      "242:\tlearn: 0.9857331\ttotal: 2.98s\tremaining: 9.27s\n",
      "243:\tlearn: 0.9857331\ttotal: 2.98s\tremaining: 9.25s\n",
      "244:\tlearn: 0.9857417\ttotal: 3s\tremaining: 9.23s\n",
      "245:\tlearn: 0.9857589\ttotal: 3s\tremaining: 9.21s\n",
      "246:\tlearn: 0.9857460\ttotal: 3.02s\tremaining: 9.19s\n",
      "247:\tlearn: 0.9857893\ttotal: 3.02s\tremaining: 9.17s\n",
      "248:\tlearn: 0.9858065\ttotal: 3.03s\tremaining: 9.15s\n",
      "249:\tlearn: 0.9858151\ttotal: 3.04s\tremaining: 9.13s\n",
      "250:\tlearn: 0.9857718\ttotal: 3.06s\tremaining: 9.12s\n",
      "251:\tlearn: 0.9857761\ttotal: 3.07s\tremaining: 9.11s\n",
      "252:\tlearn: 0.9857975\ttotal: 3.08s\tremaining: 9.09s\n",
      "253:\tlearn: 0.9858018\ttotal: 3.09s\tremaining: 9.07s\n",
      "254:\tlearn: 0.9857889\ttotal: 3.1s\tremaining: 9.05s\n",
      "255:\tlearn: 0.9857975\ttotal: 3.11s\tremaining: 9.03s\n",
      "256:\tlearn: 0.9857975\ttotal: 3.12s\tremaining: 9.02s\n",
      "257:\tlearn: 0.9857889\ttotal: 3.13s\tremaining: 9s\n",
      "258:\tlearn: 0.9858061\ttotal: 3.14s\tremaining: 8.98s\n",
      "259:\tlearn: 0.9858709\ttotal: 3.15s\tremaining: 8.96s\n",
      "260:\tlearn: 0.9858623\ttotal: 3.16s\tremaining: 8.94s\n",
      "261:\tlearn: 0.9858709\ttotal: 3.17s\tremaining: 8.93s\n",
      "262:\tlearn: 0.9858580\ttotal: 3.19s\tremaining: 8.93s\n",
      "263:\tlearn: 0.9858666\ttotal: 3.2s\tremaining: 8.93s\n",
      "264:\tlearn: 0.9859099\ttotal: 3.21s\tremaining: 8.92s\n",
      "265:\tlearn: 0.9858623\ttotal: 3.23s\tremaining: 8.91s\n",
      "266:\tlearn: 0.9859099\ttotal: 3.24s\tremaining: 8.91s\n",
      "267:\tlearn: 0.9859099\ttotal: 3.26s\tremaining: 8.9s\n",
      "268:\tlearn: 0.9859447\ttotal: 3.27s\tremaining: 8.89s\n",
      "269:\tlearn: 0.9859447\ttotal: 3.29s\tremaining: 8.89s\n",
      "270:\tlearn: 0.9859490\ttotal: 3.3s\tremaining: 8.87s\n",
      "271:\tlearn: 0.9859747\ttotal: 3.31s\tremaining: 8.86s\n",
      "272:\tlearn: 0.9859704\ttotal: 3.32s\tremaining: 8.84s\n",
      "273:\tlearn: 0.9859790\ttotal: 3.33s\tremaining: 8.82s\n",
      "274:\tlearn: 0.9859919\ttotal: 3.34s\tremaining: 8.81s\n",
      "275:\tlearn: 0.9859919\ttotal: 3.35s\tremaining: 8.79s\n",
      "276:\tlearn: 0.9860309\ttotal: 3.36s\tremaining: 8.77s\n",
      "277:\tlearn: 0.9860309\ttotal: 3.37s\tremaining: 8.76s\n",
      "278:\tlearn: 0.9860352\ttotal: 3.39s\tremaining: 8.75s\n",
      "279:\tlearn: 0.9860266\ttotal: 3.4s\tremaining: 8.74s\n",
      "280:\tlearn: 0.9860309\ttotal: 3.41s\tremaining: 8.74s\n",
      "281:\tlearn: 0.9860395\ttotal: 3.43s\tremaining: 8.73s\n",
      "282:\tlearn: 0.9860438\ttotal: 3.44s\tremaining: 8.72s\n",
      "283:\tlearn: 0.9860785\ttotal: 3.46s\tremaining: 8.72s\n",
      "284:\tlearn: 0.9861047\ttotal: 3.47s\tremaining: 8.71s\n",
      "285:\tlearn: 0.9861047\ttotal: 3.48s\tremaining: 8.7s\n",
      "286:\tlearn: 0.9861133\ttotal: 3.5s\tremaining: 8.69s\n",
      "287:\tlearn: 0.9861218\ttotal: 3.51s\tremaining: 8.67s\n",
      "288:\tlearn: 0.9861175\ttotal: 3.52s\tremaining: 8.67s\n",
      "289:\tlearn: 0.9861652\ttotal: 3.54s\tremaining: 8.66s\n",
      "290:\tlearn: 0.9861694\ttotal: 3.55s\tremaining: 8.64s\n",
      "291:\tlearn: 0.9861566\ttotal: 3.56s\tremaining: 8.62s\n",
      "292:\tlearn: 0.9861780\ttotal: 3.57s\tremaining: 8.6s\n",
      "293:\tlearn: 0.9861780\ttotal: 3.58s\tremaining: 8.59s\n",
      "294:\tlearn: 0.9861866\ttotal: 3.59s\tremaining: 8.59s\n",
      "295:\tlearn: 0.9861909\ttotal: 3.61s\tremaining: 8.58s\n",
      "296:\tlearn: 0.9861909\ttotal: 3.62s\tremaining: 8.57s\n",
      "297:\tlearn: 0.9861952\ttotal: 3.64s\tremaining: 8.57s\n",
      "298:\tlearn: 0.9861952\ttotal: 3.65s\tremaining: 8.56s\n",
      "299:\tlearn: 0.9862342\ttotal: 3.67s\tremaining: 8.55s\n",
      "300:\tlearn: 0.9862299\ttotal: 3.68s\tremaining: 8.55s\n",
      "301:\tlearn: 0.9861952\ttotal: 3.69s\tremaining: 8.54s\n",
      "302:\tlearn: 0.9862428\ttotal: 3.71s\tremaining: 8.52s\n",
      "303:\tlearn: 0.9862471\ttotal: 3.71s\tremaining: 8.51s\n",
      "304:\tlearn: 0.9862514\ttotal: 3.73s\tremaining: 8.49s\n",
      "305:\tlearn: 0.9862643\ttotal: 3.74s\tremaining: 8.47s\n",
      "306:\tlearn: 0.9862600\ttotal: 3.75s\tremaining: 8.46s\n",
      "307:\tlearn: 0.9862600\ttotal: 3.76s\tremaining: 8.44s\n",
      "308:\tlearn: 0.9862600\ttotal: 3.77s\tremaining: 8.42s\n",
      "309:\tlearn: 0.9862600\ttotal: 3.78s\tremaining: 8.4s\n",
      "310:\tlearn: 0.9862514\ttotal: 3.79s\tremaining: 8.4s\n",
      "311:\tlearn: 0.9862686\ttotal: 3.81s\tremaining: 8.4s\n",
      "312:\tlearn: 0.9862900\ttotal: 3.82s\tremaining: 8.39s\n",
      "313:\tlearn: 0.9862900\ttotal: 3.84s\tremaining: 8.38s\n",
      "314:\tlearn: 0.9862943\ttotal: 3.85s\tremaining: 8.38s\n",
      "315:\tlearn: 0.9862986\ttotal: 3.87s\tremaining: 8.37s\n",
      "316:\tlearn: 0.9863895\ttotal: 3.88s\tremaining: 8.37s\n",
      "317:\tlearn: 0.9863938\ttotal: 3.9s\tremaining: 8.36s\n",
      "318:\tlearn: 0.9863895\ttotal: 3.9s\tremaining: 8.34s\n",
      "319:\tlearn: 0.9864414\ttotal: 3.92s\tremaining: 8.32s\n",
      "320:\tlearn: 0.9864457\ttotal: 3.92s\tremaining: 8.3s\n",
      "321:\tlearn: 0.9864500\ttotal: 3.94s\tremaining: 8.29s\n",
      "322:\tlearn: 0.9864933\ttotal: 3.95s\tremaining: 8.27s\n",
      "323:\tlearn: 0.9865019\ttotal: 3.96s\tremaining: 8.26s\n",
      "324:\tlearn: 0.9865538\ttotal: 3.97s\tremaining: 8.24s\n",
      "325:\tlearn: 0.9865971\ttotal: 3.98s\tremaining: 8.22s\n",
      "326:\tlearn: 0.9866232\ttotal: 3.99s\tremaining: 8.2s\n",
      "327:\tlearn: 0.9865971\ttotal: 4s\tremaining: 8.19s\n",
      "328:\tlearn: 0.9866014\ttotal: 4.01s\tremaining: 8.17s\n",
      "329:\tlearn: 0.9866404\ttotal: 4.02s\tremaining: 8.16s\n",
      "330:\tlearn: 0.9866836\ttotal: 4.03s\tremaining: 8.14s\n",
      "331:\tlearn: 0.9866836\ttotal: 4.04s\tremaining: 8.12s\n",
      "332:\tlearn: 0.9867226\ttotal: 4.05s\tremaining: 8.11s\n",
      "333:\tlearn: 0.9867616\ttotal: 4.06s\tremaining: 8.09s\n",
      "334:\tlearn: 0.9867616\ttotal: 4.07s\tremaining: 8.07s\n",
      "335:\tlearn: 0.9867616\ttotal: 4.08s\tremaining: 8.06s\n",
      "336:\tlearn: 0.9867226\ttotal: 4.09s\tremaining: 8.04s\n",
      "337:\tlearn: 0.9867702\ttotal: 4.1s\tremaining: 8.03s\n",
      "338:\tlearn: 0.9867788\ttotal: 4.11s\tremaining: 8.01s\n",
      "339:\tlearn: 0.9867831\ttotal: 4.12s\tremaining: 7.99s\n",
      "340:\tlearn: 0.9867788\ttotal: 4.13s\tremaining: 7.97s\n",
      "341:\tlearn: 0.9867527\ttotal: 4.14s\tremaining: 7.96s\n",
      "342:\tlearn: 0.9867788\ttotal: 4.15s\tremaining: 7.94s\n",
      "343:\tlearn: 0.9867570\ttotal: 4.16s\tremaining: 7.93s\n",
      "344:\tlearn: 0.9868003\ttotal: 4.17s\tremaining: 7.91s\n",
      "345:\tlearn: 0.9868003\ttotal: 4.18s\tremaining: 7.89s\n",
      "346:\tlearn: 0.9868046\ttotal: 4.19s\tremaining: 7.88s\n",
      "347:\tlearn: 0.9868089\ttotal: 4.2s\tremaining: 7.86s\n",
      "348:\tlearn: 0.9867742\ttotal: 4.21s\tremaining: 7.86s\n",
      "349:\tlearn: 0.9867871\ttotal: 4.23s\tremaining: 7.85s\n",
      "350:\tlearn: 0.9868346\ttotal: 4.24s\tremaining: 7.85s\n",
      "351:\tlearn: 0.9868954\ttotal: 4.26s\tremaining: 7.84s\n",
      "352:\tlearn: 0.9869126\ttotal: 4.27s\tremaining: 7.83s\n",
      "353:\tlearn: 0.9869602\ttotal: 4.29s\tremaining: 7.83s\n",
      "354:\tlearn: 0.9869559\ttotal: 4.3s\tremaining: 7.82s\n",
      "355:\tlearn: 0.9869688\ttotal: 4.32s\tremaining: 7.81s\n",
      "356:\tlearn: 0.9869645\ttotal: 4.33s\tremaining: 7.79s\n",
      "357:\tlearn: 0.9869688\ttotal: 4.33s\tremaining: 7.78s\n",
      "358:\tlearn: 0.9869688\ttotal: 4.34s\tremaining: 7.76s\n",
      "359:\tlearn: 0.9869602\ttotal: 4.36s\tremaining: 7.74s\n",
      "360:\tlearn: 0.9869730\ttotal: 4.37s\tremaining: 7.73s\n",
      "361:\tlearn: 0.9869688\ttotal: 4.38s\tremaining: 7.71s\n",
      "362:\tlearn: 0.9869816\ttotal: 4.38s\tremaining: 7.7s\n",
      "363:\tlearn: 0.9869816\ttotal: 4.39s\tremaining: 7.68s\n",
      "364:\tlearn: 0.9869859\ttotal: 4.41s\tremaining: 7.67s\n",
      "365:\tlearn: 0.9869859\ttotal: 4.42s\tremaining: 7.66s\n",
      "366:\tlearn: 0.9869902\ttotal: 4.44s\tremaining: 7.65s\n",
      "367:\tlearn: 0.9870031\ttotal: 4.45s\tremaining: 7.64s\n",
      "368:\tlearn: 0.9870031\ttotal: 4.47s\tremaining: 7.64s\n",
      "369:\tlearn: 0.9869988\ttotal: 4.48s\tremaining: 7.63s\n",
      "370:\tlearn: 0.9870074\ttotal: 4.5s\tremaining: 7.62s\n",
      "371:\tlearn: 0.9870246\ttotal: 4.51s\tremaining: 7.61s\n",
      "372:\tlearn: 0.9870246\ttotal: 4.52s\tremaining: 7.6s\n",
      "373:\tlearn: 0.9870332\ttotal: 4.53s\tremaining: 7.59s\n",
      "374:\tlearn: 0.9870332\ttotal: 4.54s\tremaining: 7.57s\n",
      "375:\tlearn: 0.9870332\ttotal: 4.55s\tremaining: 7.55s\n",
      "376:\tlearn: 0.9870418\ttotal: 4.56s\tremaining: 7.54s\n",
      "377:\tlearn: 0.9870807\ttotal: 4.57s\tremaining: 7.52s\n",
      "378:\tlearn: 0.9870765\ttotal: 4.58s\tremaining: 7.51s\n",
      "379:\tlearn: 0.9871197\ttotal: 4.59s\tremaining: 7.49s\n",
      "380:\tlearn: 0.9871111\ttotal: 4.6s\tremaining: 7.48s\n",
      "381:\tlearn: 0.9871329\ttotal: 4.62s\tremaining: 7.47s\n",
      "382:\tlearn: 0.9871415\ttotal: 4.63s\tremaining: 7.46s\n",
      "383:\tlearn: 0.9871587\ttotal: 4.64s\tremaining: 7.45s\n",
      "384:\tlearn: 0.9872062\ttotal: 4.66s\tremaining: 7.44s\n",
      "385:\tlearn: 0.9872105\ttotal: 4.67s\tremaining: 7.43s\n",
      "386:\tlearn: 0.9872148\ttotal: 4.69s\tremaining: 7.42s\n",
      "387:\tlearn: 0.9872105\ttotal: 4.7s\tremaining: 7.42s\n",
      "388:\tlearn: 0.9872062\ttotal: 4.72s\tremaining: 7.41s\n",
      "389:\tlearn: 0.9872148\ttotal: 4.73s\tremaining: 7.4s\n",
      "390:\tlearn: 0.9872277\ttotal: 4.75s\tremaining: 7.39s\n",
      "391:\tlearn: 0.9872320\ttotal: 4.76s\tremaining: 7.38s\n",
      "392:\tlearn: 0.9872406\ttotal: 4.77s\tremaining: 7.37s\n",
      "393:\tlearn: 0.9872492\ttotal: 4.78s\tremaining: 7.36s\n",
      "394:\tlearn: 0.9872492\ttotal: 4.79s\tremaining: 7.34s\n",
      "395:\tlearn: 0.9872535\ttotal: 4.8s\tremaining: 7.33s\n",
      "396:\tlearn: 0.9872188\ttotal: 4.81s\tremaining: 7.31s\n",
      "397:\tlearn: 0.9872578\ttotal: 4.82s\tremaining: 7.3s\n",
      "398:\tlearn: 0.9873097\ttotal: 4.83s\tremaining: 7.28s\n",
      "399:\tlearn: 0.9872793\ttotal: 4.84s\tremaining: 7.27s\n",
      "400:\tlearn: 0.9872750\ttotal: 4.86s\tremaining: 7.25s\n",
      "401:\tlearn: 0.9872750\ttotal: 4.86s\tremaining: 7.24s\n",
      "402:\tlearn: 0.9873225\ttotal: 4.87s\tremaining: 7.22s\n",
      "403:\tlearn: 0.9873225\ttotal: 4.88s\tremaining: 7.2s\n",
      "404:\tlearn: 0.9873529\ttotal: 4.89s\tremaining: 7.19s\n",
      "405:\tlearn: 0.9873615\ttotal: 4.9s\tremaining: 7.17s\n",
      "406:\tlearn: 0.9873572\ttotal: 4.91s\tremaining: 7.16s\n",
      "407:\tlearn: 0.9873962\ttotal: 4.92s\tremaining: 7.14s\n",
      "408:\tlearn: 0.9874437\ttotal: 4.93s\tremaining: 7.13s\n",
      "409:\tlearn: 0.9874523\ttotal: 4.95s\tremaining: 7.12s\n",
      "410:\tlearn: 0.9874566\ttotal: 4.97s\tremaining: 7.13s\n",
      "411:\tlearn: 0.9874955\ttotal: 4.99s\tremaining: 7.12s\n",
      "412:\tlearn: 0.9874955\ttotal: 5s\tremaining: 7.1s\n",
      "413:\tlearn: 0.9875084\ttotal: 5s\tremaining: 7.08s\n",
      "414:\tlearn: 0.9875084\ttotal: 5.01s\tremaining: 7.07s\n",
      "415:\tlearn: 0.9875127\ttotal: 5.03s\tremaining: 7.05s\n",
      "416:\tlearn: 0.9875560\ttotal: 5.04s\tremaining: 7.04s\n",
      "417:\tlearn: 0.9875299\ttotal: 5.05s\tremaining: 7.03s\n",
      "418:\tlearn: 0.9875299\ttotal: 5.06s\tremaining: 7.01s\n",
      "419:\tlearn: 0.9875299\ttotal: 5.07s\tremaining: 7s\n",
      "420:\tlearn: 0.9875342\ttotal: 5.08s\tremaining: 6.98s\n",
      "421:\tlearn: 0.9875256\ttotal: 5.08s\tremaining: 6.96s\n",
      "422:\tlearn: 0.9875689\ttotal: 5.09s\tremaining: 6.95s\n",
      "423:\tlearn: 0.9876035\ttotal: 5.1s\tremaining: 6.93s\n",
      "424:\tlearn: 0.9876078\ttotal: 5.12s\tremaining: 6.92s\n",
      "425:\tlearn: 0.9876468\ttotal: 5.13s\tremaining: 6.91s\n",
      "426:\tlearn: 0.9876468\ttotal: 5.14s\tremaining: 6.89s\n",
      "427:\tlearn: 0.9876035\ttotal: 5.15s\tremaining: 6.88s\n",
      "428:\tlearn: 0.9876943\ttotal: 5.16s\tremaining: 6.86s\n",
      "429:\tlearn: 0.9877201\ttotal: 5.17s\tremaining: 6.85s\n",
      "430:\tlearn: 0.9876465\ttotal: 5.18s\tremaining: 6.83s\n",
      "431:\tlearn: 0.9876897\ttotal: 5.19s\tremaining: 6.82s\n",
      "432:\tlearn: 0.9876811\ttotal: 5.2s\tremaining: 6.8s\n",
      "433:\tlearn: 0.9876811\ttotal: 5.21s\tremaining: 6.79s\n",
      "434:\tlearn: 0.9877244\ttotal: 5.22s\tremaining: 6.78s\n",
      "435:\tlearn: 0.9877676\ttotal: 5.23s\tremaining: 6.76s\n",
      "436:\tlearn: 0.9877676\ttotal: 5.24s\tremaining: 6.75s\n",
      "437:\tlearn: 0.9878151\ttotal: 5.25s\tremaining: 6.73s\n",
      "438:\tlearn: 0.9877848\ttotal: 5.26s\tremaining: 6.72s\n",
      "439:\tlearn: 0.9877848\ttotal: 5.27s\tremaining: 6.7s\n",
      "440:\tlearn: 0.9877891\ttotal: 5.28s\tremaining: 6.69s\n",
      "441:\tlearn: 0.9878237\ttotal: 5.29s\tremaining: 6.67s\n",
      "442:\tlearn: 0.9878756\ttotal: 5.3s\tremaining: 6.66s\n",
      "443:\tlearn: 0.9879145\ttotal: 5.31s\tremaining: 6.65s\n",
      "444:\tlearn: 0.9879188\ttotal: 5.32s\tremaining: 6.63s\n",
      "445:\tlearn: 0.9879188\ttotal: 5.33s\tremaining: 6.62s\n",
      "446:\tlearn: 0.9879577\ttotal: 5.34s\tremaining: 6.6s\n",
      "447:\tlearn: 0.9880441\ttotal: 5.35s\tremaining: 6.59s\n",
      "448:\tlearn: 0.9880831\ttotal: 5.36s\tremaining: 6.58s\n",
      "449:\tlearn: 0.9880398\ttotal: 5.37s\tremaining: 6.56s\n",
      "450:\tlearn: 0.9880484\ttotal: 5.38s\tremaining: 6.55s\n",
      "451:\tlearn: 0.9880441\ttotal: 5.39s\tremaining: 6.53s\n",
      "452:\tlearn: 0.9881220\ttotal: 5.4s\tremaining: 6.52s\n",
      "453:\tlearn: 0.9880874\ttotal: 5.41s\tremaining: 6.5s\n",
      "454:\tlearn: 0.9880874\ttotal: 5.42s\tremaining: 6.49s\n",
      "455:\tlearn: 0.9881220\ttotal: 5.43s\tremaining: 6.47s\n",
      "456:\tlearn: 0.9881652\ttotal: 5.44s\tremaining: 6.46s\n",
      "457:\tlearn: 0.9881609\ttotal: 5.45s\tremaining: 6.45s\n",
      "458:\tlearn: 0.9881652\ttotal: 5.46s\tremaining: 6.43s\n",
      "459:\tlearn: 0.9881695\ttotal: 5.47s\tremaining: 6.42s\n",
      "460:\tlearn: 0.9881392\ttotal: 5.48s\tremaining: 6.4s\n",
      "461:\tlearn: 0.9881867\ttotal: 5.49s\tremaining: 6.39s\n",
      "462:\tlearn: 0.9881910\ttotal: 5.5s\tremaining: 6.37s\n",
      "463:\tlearn: 0.9881435\ttotal: 5.5s\tremaining: 6.36s\n",
      "464:\tlearn: 0.9881521\ttotal: 5.52s\tremaining: 6.35s\n",
      "465:\tlearn: 0.9881478\ttotal: 5.53s\tremaining: 6.33s\n",
      "466:\tlearn: 0.9881131\ttotal: 5.54s\tremaining: 6.32s\n",
      "467:\tlearn: 0.9881131\ttotal: 5.55s\tremaining: 6.31s\n",
      "468:\tlearn: 0.9881563\ttotal: 5.56s\tremaining: 6.29s\n",
      "469:\tlearn: 0.9881649\ttotal: 5.57s\tremaining: 6.28s\n",
      "470:\tlearn: 0.9881735\ttotal: 5.58s\tremaining: 6.27s\n",
      "471:\tlearn: 0.9881346\ttotal: 5.59s\tremaining: 6.25s\n",
      "472:\tlearn: 0.9881346\ttotal: 5.6s\tremaining: 6.24s\n",
      "473:\tlearn: 0.9882210\ttotal: 5.61s\tremaining: 6.22s\n",
      "474:\tlearn: 0.9882728\ttotal: 5.62s\tremaining: 6.21s\n",
      "475:\tlearn: 0.9881864\ttotal: 5.63s\tremaining: 6.2s\n",
      "476:\tlearn: 0.9881907\ttotal: 5.64s\tremaining: 6.19s\n",
      "477:\tlearn: 0.9881950\ttotal: 5.66s\tremaining: 6.18s\n",
      "478:\tlearn: 0.9882079\ttotal: 5.67s\tremaining: 6.17s\n",
      "479:\tlearn: 0.9882036\ttotal: 5.69s\tremaining: 6.16s\n",
      "480:\tlearn: 0.9882122\ttotal: 5.71s\tremaining: 6.16s\n",
      "481:\tlearn: 0.9883289\ttotal: 5.72s\tremaining: 6.15s\n",
      "482:\tlearn: 0.9883332\ttotal: 5.73s\tremaining: 6.14s\n",
      "483:\tlearn: 0.9883289\ttotal: 5.75s\tremaining: 6.13s\n",
      "484:\tlearn: 0.9883461\ttotal: 5.76s\tremaining: 6.12s\n",
      "485:\tlearn: 0.9883418\ttotal: 5.78s\tremaining: 6.11s\n",
      "486:\tlearn: 0.9883461\ttotal: 5.79s\tremaining: 6.1s\n",
      "487:\tlearn: 0.9883115\ttotal: 5.8s\tremaining: 6.09s\n",
      "488:\tlearn: 0.9883504\ttotal: 5.82s\tremaining: 6.08s\n",
      "489:\tlearn: 0.9883893\ttotal: 5.82s\tremaining: 6.06s\n",
      "490:\tlearn: 0.9883850\ttotal: 5.84s\tremaining: 6.05s\n",
      "491:\tlearn: 0.9883850\ttotal: 5.85s\tremaining: 6.04s\n",
      "492:\tlearn: 0.9884931\ttotal: 5.87s\tremaining: 6.03s\n",
      "493:\tlearn: 0.9884888\ttotal: 5.88s\tremaining: 6.02s\n",
      "494:\tlearn: 0.9885320\ttotal: 5.9s\tremaining: 6.01s\n",
      "495:\tlearn: 0.9885320\ttotal: 5.91s\tremaining: 6.01s\n",
      "496:\tlearn: 0.9885277\ttotal: 5.93s\tremaining: 6s\n",
      "497:\tlearn: 0.9885320\ttotal: 5.94s\tremaining: 5.99s\n",
      "498:\tlearn: 0.9885666\ttotal: 5.96s\tremaining: 5.98s\n",
      "499:\tlearn: 0.9886444\ttotal: 5.97s\tremaining: 5.97s\n",
      "500:\tlearn: 0.9885752\ttotal: 5.98s\tremaining: 5.96s\n",
      "501:\tlearn: 0.9886184\ttotal: 6s\tremaining: 5.95s\n",
      "502:\tlearn: 0.9886573\ttotal: 6.01s\tremaining: 5.94s\n",
      "503:\tlearn: 0.9886356\ttotal: 6.03s\tremaining: 5.93s\n",
      "504:\tlearn: 0.9886831\ttotal: 6.04s\tremaining: 5.92s\n",
      "505:\tlearn: 0.9886960\ttotal: 6.05s\tremaining: 5.91s\n",
      "506:\tlearn: 0.9887391\ttotal: 6.07s\tremaining: 5.9s\n",
      "507:\tlearn: 0.9887434\ttotal: 6.08s\tremaining: 5.89s\n",
      "508:\tlearn: 0.9887391\ttotal: 6.09s\tremaining: 5.88s\n",
      "509:\tlearn: 0.9887391\ttotal: 6.11s\tremaining: 5.87s\n",
      "510:\tlearn: 0.9887391\ttotal: 6.13s\tremaining: 5.86s\n",
      "511:\tlearn: 0.9887520\ttotal: 6.14s\tremaining: 5.85s\n",
      "512:\tlearn: 0.9887260\ttotal: 6.16s\tremaining: 5.84s\n",
      "513:\tlearn: 0.9887217\ttotal: 6.17s\tremaining: 5.83s\n",
      "514:\tlearn: 0.9887217\ttotal: 6.18s\tremaining: 5.82s\n",
      "515:\tlearn: 0.9887217\ttotal: 6.2s\tremaining: 5.81s\n",
      "516:\tlearn: 0.9887260\ttotal: 6.21s\tremaining: 5.8s\n",
      "517:\tlearn: 0.9887260\ttotal: 6.23s\tremaining: 5.79s\n",
      "518:\tlearn: 0.9887346\ttotal: 6.24s\tremaining: 5.78s\n",
      "519:\tlearn: 0.9887432\ttotal: 6.26s\tremaining: 5.77s\n",
      "520:\tlearn: 0.9887821\ttotal: 6.27s\tremaining: 5.76s\n",
      "521:\tlearn: 0.9887864\ttotal: 6.28s\tremaining: 5.75s\n",
      "522:\tlearn: 0.9887907\ttotal: 6.29s\tremaining: 5.73s\n",
      "523:\tlearn: 0.9888382\ttotal: 6.3s\tremaining: 5.72s\n",
      "524:\tlearn: 0.9888339\ttotal: 6.31s\tremaining: 5.71s\n",
      "525:\tlearn: 0.9888382\ttotal: 6.32s\tremaining: 5.69s\n",
      "526:\tlearn: 0.9888425\ttotal: 6.33s\tremaining: 5.68s\n",
      "527:\tlearn: 0.9888036\ttotal: 6.34s\tremaining: 5.66s\n",
      "528:\tlearn: 0.9888382\ttotal: 6.35s\tremaining: 5.65s\n",
      "529:\tlearn: 0.9888425\ttotal: 6.36s\tremaining: 5.64s\n",
      "530:\tlearn: 0.9888382\ttotal: 6.37s\tremaining: 5.63s\n",
      "531:\tlearn: 0.9888425\ttotal: 6.38s\tremaining: 5.61s\n",
      "532:\tlearn: 0.9888339\ttotal: 6.39s\tremaining: 5.6s\n",
      "533:\tlearn: 0.9888339\ttotal: 6.4s\tremaining: 5.58s\n",
      "534:\tlearn: 0.9888728\ttotal: 6.41s\tremaining: 5.57s\n",
      "535:\tlearn: 0.9888296\ttotal: 6.42s\tremaining: 5.56s\n",
      "536:\tlearn: 0.9888296\ttotal: 6.43s\tremaining: 5.54s\n",
      "537:\tlearn: 0.9888425\ttotal: 6.44s\tremaining: 5.53s\n",
      "538:\tlearn: 0.9888900\ttotal: 6.45s\tremaining: 5.52s\n",
      "539:\tlearn: 0.9889849\ttotal: 6.46s\tremaining: 5.51s\n",
      "540:\tlearn: 0.9889763\ttotal: 6.48s\tremaining: 5.5s\n",
      "541:\tlearn: 0.9889417\ttotal: 6.49s\tremaining: 5.49s\n",
      "542:\tlearn: 0.9890195\ttotal: 6.5s\tremaining: 5.47s\n",
      "543:\tlearn: 0.9889806\ttotal: 6.51s\tremaining: 5.46s\n",
      "544:\tlearn: 0.9889892\ttotal: 6.52s\tremaining: 5.45s\n",
      "545:\tlearn: 0.9889935\ttotal: 6.53s\tremaining: 5.43s\n",
      "546:\tlearn: 0.9890064\ttotal: 6.54s\tremaining: 5.42s\n",
      "547:\tlearn: 0.9890367\ttotal: 6.55s\tremaining: 5.41s\n",
      "548:\tlearn: 0.9890798\ttotal: 6.56s\tremaining: 5.39s\n",
      "549:\tlearn: 0.9890798\ttotal: 6.58s\tremaining: 5.38s\n",
      "550:\tlearn: 0.9890798\ttotal: 6.58s\tremaining: 5.37s\n",
      "551:\tlearn: 0.9890884\ttotal: 6.59s\tremaining: 5.35s\n",
      "552:\tlearn: 0.9890798\ttotal: 6.61s\tremaining: 5.34s\n",
      "553:\tlearn: 0.9890798\ttotal: 6.61s\tremaining: 5.33s\n",
      "554:\tlearn: 0.9890539\ttotal: 6.62s\tremaining: 5.31s\n",
      "555:\tlearn: 0.9890582\ttotal: 6.63s\tremaining: 5.3s\n",
      "556:\tlearn: 0.9890539\ttotal: 6.64s\tremaining: 5.28s\n",
      "557:\tlearn: 0.9890496\ttotal: 6.66s\tremaining: 5.27s\n",
      "558:\tlearn: 0.9890539\ttotal: 6.67s\tremaining: 5.26s\n",
      "559:\tlearn: 0.9890539\ttotal: 6.68s\tremaining: 5.25s\n",
      "560:\tlearn: 0.9890754\ttotal: 6.69s\tremaining: 5.23s\n",
      "561:\tlearn: 0.9890754\ttotal: 6.7s\tremaining: 5.22s\n",
      "562:\tlearn: 0.9890711\ttotal: 6.71s\tremaining: 5.21s\n",
      "563:\tlearn: 0.9890711\ttotal: 6.72s\tremaining: 5.19s\n",
      "564:\tlearn: 0.9890711\ttotal: 6.73s\tremaining: 5.18s\n",
      "565:\tlearn: 0.9890754\ttotal: 6.74s\tremaining: 5.17s\n",
      "566:\tlearn: 0.9890926\ttotal: 6.75s\tremaining: 5.15s\n",
      "567:\tlearn: 0.9890883\ttotal: 6.76s\tremaining: 5.14s\n",
      "568:\tlearn: 0.9890926\ttotal: 6.77s\tremaining: 5.13s\n",
      "569:\tlearn: 0.9891443\ttotal: 6.78s\tremaining: 5.11s\n",
      "570:\tlearn: 0.9891529\ttotal: 6.79s\tremaining: 5.1s\n",
      "571:\tlearn: 0.9891615\ttotal: 6.8s\tremaining: 5.09s\n",
      "572:\tlearn: 0.9891701\ttotal: 6.81s\tremaining: 5.07s\n",
      "573:\tlearn: 0.9891787\ttotal: 6.82s\tremaining: 5.06s\n",
      "574:\tlearn: 0.9892133\ttotal: 6.83s\tremaining: 5.05s\n",
      "575:\tlearn: 0.9892607\ttotal: 6.84s\tremaining: 5.03s\n",
      "576:\tlearn: 0.9892521\ttotal: 6.85s\tremaining: 5.02s\n",
      "577:\tlearn: 0.9892521\ttotal: 6.86s\tremaining: 5.01s\n",
      "578:\tlearn: 0.9892607\ttotal: 6.87s\tremaining: 4.99s\n",
      "579:\tlearn: 0.9892650\ttotal: 6.88s\tremaining: 4.98s\n",
      "580:\tlearn: 0.9892564\ttotal: 6.89s\tremaining: 4.97s\n",
      "581:\tlearn: 0.9892650\ttotal: 6.9s\tremaining: 4.95s\n",
      "582:\tlearn: 0.9892953\ttotal: 6.91s\tremaining: 4.94s\n",
      "583:\tlearn: 0.9892953\ttotal: 6.92s\tremaining: 4.93s\n",
      "584:\tlearn: 0.9892996\ttotal: 6.93s\tremaining: 4.91s\n",
      "585:\tlearn: 0.9893039\ttotal: 6.94s\tremaining: 4.9s\n",
      "586:\tlearn: 0.9893082\ttotal: 6.95s\tremaining: 4.89s\n",
      "587:\tlearn: 0.9893082\ttotal: 6.96s\tremaining: 4.88s\n",
      "588:\tlearn: 0.9892996\ttotal: 6.97s\tremaining: 4.86s\n",
      "589:\tlearn: 0.9892953\ttotal: 6.98s\tremaining: 4.85s\n",
      "590:\tlearn: 0.9892953\ttotal: 6.99s\tremaining: 4.84s\n",
      "591:\tlearn: 0.9892867\ttotal: 7s\tremaining: 4.82s\n",
      "592:\tlearn: 0.9892953\ttotal: 7.01s\tremaining: 4.81s\n",
      "593:\tlearn: 0.9893341\ttotal: 7.02s\tremaining: 4.8s\n",
      "594:\tlearn: 0.9893427\ttotal: 7.03s\tremaining: 4.78s\n",
      "595:\tlearn: 0.9893902\ttotal: 7.04s\tremaining: 4.77s\n",
      "596:\tlearn: 0.9893859\ttotal: 7.05s\tremaining: 4.76s\n",
      "597:\tlearn: 0.9893902\ttotal: 7.06s\tremaining: 4.75s\n",
      "598:\tlearn: 0.9893470\ttotal: 7.07s\tremaining: 4.73s\n",
      "599:\tlearn: 0.9893556\ttotal: 7.08s\tremaining: 4.72s\n",
      "600:\tlearn: 0.9893556\ttotal: 7.09s\tremaining: 4.71s\n",
      "601:\tlearn: 0.9893945\ttotal: 7.1s\tremaining: 4.69s\n",
      "602:\tlearn: 0.9893902\ttotal: 7.11s\tremaining: 4.68s\n",
      "603:\tlearn: 0.9894376\ttotal: 7.12s\tremaining: 4.67s\n",
      "604:\tlearn: 0.9894462\ttotal: 7.13s\tremaining: 4.65s\n",
      "605:\tlearn: 0.9894462\ttotal: 7.14s\tremaining: 4.64s\n",
      "606:\tlearn: 0.9894462\ttotal: 7.15s\tremaining: 4.63s\n",
      "607:\tlearn: 0.9894505\ttotal: 7.16s\tremaining: 4.62s\n",
      "608:\tlearn: 0.9894462\ttotal: 7.17s\tremaining: 4.6s\n",
      "609:\tlearn: 0.9894462\ttotal: 7.18s\tremaining: 4.59s\n",
      "610:\tlearn: 0.9894548\ttotal: 7.19s\tremaining: 4.58s\n",
      "611:\tlearn: 0.9894548\ttotal: 7.2s\tremaining: 4.56s\n",
      "612:\tlearn: 0.9894591\ttotal: 7.21s\tremaining: 4.55s\n",
      "613:\tlearn: 0.9894591\ttotal: 7.22s\tremaining: 4.54s\n",
      "614:\tlearn: 0.9894634\ttotal: 7.23s\tremaining: 4.53s\n",
      "615:\tlearn: 0.9894591\ttotal: 7.24s\tremaining: 4.51s\n",
      "616:\tlearn: 0.9894763\ttotal: 7.25s\tremaining: 4.5s\n",
      "617:\tlearn: 0.9894806\ttotal: 7.26s\tremaining: 4.49s\n",
      "618:\tlearn: 0.9895195\ttotal: 7.27s\tremaining: 4.47s\n",
      "619:\tlearn: 0.9895152\ttotal: 7.28s\tremaining: 4.46s\n",
      "620:\tlearn: 0.9895195\ttotal: 7.29s\tremaining: 4.45s\n",
      "621:\tlearn: 0.9895152\ttotal: 7.3s\tremaining: 4.44s\n",
      "622:\tlearn: 0.9895324\ttotal: 7.31s\tremaining: 4.42s\n",
      "623:\tlearn: 0.9895669\ttotal: 7.32s\tremaining: 4.41s\n",
      "624:\tlearn: 0.9895669\ttotal: 7.33s\tremaining: 4.4s\n",
      "625:\tlearn: 0.9895626\ttotal: 7.34s\tremaining: 4.38s\n",
      "626:\tlearn: 0.9895712\ttotal: 7.35s\tremaining: 4.37s\n",
      "627:\tlearn: 0.9895712\ttotal: 7.36s\tremaining: 4.36s\n",
      "628:\tlearn: 0.9895755\ttotal: 7.37s\tremaining: 4.35s\n",
      "629:\tlearn: 0.9896100\ttotal: 7.38s\tremaining: 4.33s\n",
      "630:\tlearn: 0.9896489\ttotal: 7.39s\tremaining: 4.32s\n",
      "631:\tlearn: 0.9896532\ttotal: 7.4s\tremaining: 4.31s\n",
      "632:\tlearn: 0.9896532\ttotal: 7.41s\tremaining: 4.3s\n",
      "633:\tlearn: 0.9896532\ttotal: 7.42s\tremaining: 4.29s\n",
      "634:\tlearn: 0.9896532\ttotal: 7.43s\tremaining: 4.27s\n",
      "635:\tlearn: 0.9896532\ttotal: 7.44s\tremaining: 4.26s\n",
      "636:\tlearn: 0.9896575\ttotal: 7.45s\tremaining: 4.25s\n",
      "637:\tlearn: 0.9896575\ttotal: 7.46s\tremaining: 4.23s\n",
      "638:\tlearn: 0.9896575\ttotal: 7.48s\tremaining: 4.22s\n",
      "639:\tlearn: 0.9896963\ttotal: 7.49s\tremaining: 4.21s\n",
      "640:\tlearn: 0.9897006\ttotal: 7.51s\tremaining: 4.2s\n",
      "641:\tlearn: 0.9896963\ttotal: 7.52s\tremaining: 4.19s\n",
      "642:\tlearn: 0.9897092\ttotal: 7.54s\tremaining: 4.18s\n",
      "643:\tlearn: 0.9897394\ttotal: 7.55s\tremaining: 4.17s\n",
      "644:\tlearn: 0.9897092\ttotal: 7.56s\tremaining: 4.16s\n",
      "645:\tlearn: 0.9897092\ttotal: 7.58s\tremaining: 4.15s\n",
      "646:\tlearn: 0.9897178\ttotal: 7.59s\tremaining: 4.14s\n",
      "647:\tlearn: 0.9897135\ttotal: 7.61s\tremaining: 4.13s\n",
      "648:\tlearn: 0.9897178\ttotal: 7.62s\tremaining: 4.12s\n",
      "649:\tlearn: 0.9897738\ttotal: 7.63s\tremaining: 4.11s\n",
      "650:\tlearn: 0.9898515\ttotal: 7.65s\tremaining: 4.1s\n",
      "651:\tlearn: 0.9898170\ttotal: 7.67s\tremaining: 4.09s\n",
      "652:\tlearn: 0.9898299\ttotal: 7.67s\tremaining: 4.08s\n",
      "653:\tlearn: 0.9898256\ttotal: 7.69s\tremaining: 4.07s\n",
      "654:\tlearn: 0.9898299\ttotal: 7.7s\tremaining: 4.05s\n",
      "655:\tlearn: 0.9898299\ttotal: 7.71s\tremaining: 4.04s\n",
      "656:\tlearn: 0.9898342\ttotal: 7.72s\tremaining: 4.03s\n",
      "657:\tlearn: 0.9898083\ttotal: 7.73s\tremaining: 4.02s\n",
      "658:\tlearn: 0.9898083\ttotal: 7.74s\tremaining: 4s\n",
      "659:\tlearn: 0.9897954\ttotal: 7.75s\tremaining: 3.99s\n",
      "660:\tlearn: 0.9897565\ttotal: 7.76s\tremaining: 3.98s\n",
      "661:\tlearn: 0.9898342\ttotal: 7.77s\tremaining: 3.97s\n",
      "662:\tlearn: 0.9898385\ttotal: 7.78s\tremaining: 3.95s\n",
      "663:\tlearn: 0.9898299\ttotal: 7.79s\tremaining: 3.94s\n",
      "664:\tlearn: 0.9898428\ttotal: 7.8s\tremaining: 3.93s\n",
      "665:\tlearn: 0.9897997\ttotal: 7.81s\tremaining: 3.92s\n",
      "666:\tlearn: 0.9898083\ttotal: 7.82s\tremaining: 3.9s\n",
      "667:\tlearn: 0.9898083\ttotal: 7.83s\tremaining: 3.89s\n",
      "668:\tlearn: 0.9898083\ttotal: 7.84s\tremaining: 3.88s\n",
      "669:\tlearn: 0.9897737\ttotal: 7.85s\tremaining: 3.87s\n",
      "670:\tlearn: 0.9898772\ttotal: 7.86s\tremaining: 3.85s\n",
      "671:\tlearn: 0.9898815\ttotal: 7.87s\tremaining: 3.84s\n",
      "672:\tlearn: 0.9898858\ttotal: 7.88s\tremaining: 3.83s\n",
      "673:\tlearn: 0.9898427\ttotal: 7.9s\tremaining: 3.82s\n",
      "674:\tlearn: 0.9898384\ttotal: 7.91s\tremaining: 3.81s\n",
      "675:\tlearn: 0.9898384\ttotal: 7.93s\tremaining: 3.8s\n",
      "676:\tlearn: 0.9898427\ttotal: 7.94s\tremaining: 3.79s\n",
      "677:\tlearn: 0.9898427\ttotal: 7.96s\tremaining: 3.78s\n",
      "678:\tlearn: 0.9898858\ttotal: 7.97s\tremaining: 3.77s\n",
      "679:\tlearn: 0.9898944\ttotal: 7.99s\tremaining: 3.76s\n",
      "680:\tlearn: 0.9898987\ttotal: 8s\tremaining: 3.75s\n",
      "681:\tlearn: 0.9898944\ttotal: 8.02s\tremaining: 3.74s\n",
      "682:\tlearn: 0.9898599\ttotal: 8.03s\tremaining: 3.73s\n",
      "683:\tlearn: 0.9899073\ttotal: 8.04s\tremaining: 3.72s\n",
      "684:\tlearn: 0.9899116\ttotal: 8.06s\tremaining: 3.71s\n",
      "685:\tlearn: 0.9899073\ttotal: 8.07s\tremaining: 3.69s\n",
      "686:\tlearn: 0.9899030\ttotal: 8.09s\tremaining: 3.68s\n",
      "687:\tlearn: 0.9898685\ttotal: 8.1s\tremaining: 3.67s\n",
      "688:\tlearn: 0.9899116\ttotal: 8.11s\tremaining: 3.66s\n",
      "689:\tlearn: 0.9899116\ttotal: 8.12s\tremaining: 3.65s\n",
      "690:\tlearn: 0.9899116\ttotal: 8.13s\tremaining: 3.63s\n",
      "691:\tlearn: 0.9899073\ttotal: 8.14s\tremaining: 3.62s\n",
      "692:\tlearn: 0.9899159\ttotal: 8.15s\tremaining: 3.61s\n",
      "693:\tlearn: 0.9899159\ttotal: 8.16s\tremaining: 3.6s\n",
      "694:\tlearn: 0.9899202\ttotal: 8.17s\tremaining: 3.58s\n",
      "695:\tlearn: 0.9899159\ttotal: 8.18s\tremaining: 3.57s\n",
      "696:\tlearn: 0.9899590\ttotal: 8.19s\tremaining: 3.56s\n",
      "697:\tlearn: 0.9899677\ttotal: 8.2s\tremaining: 3.55s\n",
      "698:\tlearn: 0.9899763\ttotal: 8.21s\tremaining: 3.53s\n",
      "699:\tlearn: 0.9899806\ttotal: 8.22s\tremaining: 3.52s\n",
      "700:\tlearn: 0.9899720\ttotal: 8.23s\tremaining: 3.51s\n",
      "701:\tlearn: 0.9899763\ttotal: 8.24s\tremaining: 3.5s\n",
      "702:\tlearn: 0.9899892\ttotal: 8.25s\tremaining: 3.48s\n",
      "703:\tlearn: 0.9899892\ttotal: 8.26s\tremaining: 3.47s\n",
      "704:\tlearn: 0.9899849\ttotal: 8.27s\tremaining: 3.46s\n",
      "705:\tlearn: 0.9899892\ttotal: 8.28s\tremaining: 3.45s\n",
      "706:\tlearn: 0.9899935\ttotal: 8.29s\tremaining: 3.44s\n",
      "707:\tlearn: 0.9900021\ttotal: 8.31s\tremaining: 3.43s\n",
      "708:\tlearn: 0.9899892\ttotal: 8.32s\tremaining: 3.42s\n",
      "709:\tlearn: 0.9899935\ttotal: 8.34s\tremaining: 3.4s\n",
      "710:\tlearn: 0.9900021\ttotal: 8.35s\tremaining: 3.39s\n",
      "711:\tlearn: 0.9900064\ttotal: 8.37s\tremaining: 3.38s\n",
      "712:\tlearn: 0.9900495\ttotal: 8.38s\tremaining: 3.37s\n",
      "713:\tlearn: 0.9900754\ttotal: 8.39s\tremaining: 3.36s\n",
      "714:\tlearn: 0.9900797\ttotal: 8.41s\tremaining: 3.35s\n",
      "715:\tlearn: 0.9900797\ttotal: 8.42s\tremaining: 3.34s\n",
      "716:\tlearn: 0.9901228\ttotal: 8.44s\tremaining: 3.33s\n",
      "717:\tlearn: 0.9901228\ttotal: 8.45s\tremaining: 3.32s\n",
      "718:\tlearn: 0.9901271\ttotal: 8.46s\tremaining: 3.31s\n",
      "719:\tlearn: 0.9901271\ttotal: 8.48s\tremaining: 3.3s\n",
      "720:\tlearn: 0.9901228\ttotal: 8.49s\tremaining: 3.29s\n",
      "721:\tlearn: 0.9901228\ttotal: 8.5s\tremaining: 3.27s\n",
      "722:\tlearn: 0.9901228\ttotal: 8.51s\tremaining: 3.26s\n",
      "723:\tlearn: 0.9901702\ttotal: 8.52s\tremaining: 3.25s\n",
      "724:\tlearn: 0.9901745\ttotal: 8.53s\tremaining: 3.24s\n",
      "725:\tlearn: 0.9901788\ttotal: 8.54s\tremaining: 3.22s\n",
      "726:\tlearn: 0.9901874\ttotal: 8.55s\tremaining: 3.21s\n",
      "727:\tlearn: 0.9901961\ttotal: 8.56s\tremaining: 3.2s\n",
      "728:\tlearn: 0.9901961\ttotal: 8.57s\tremaining: 3.19s\n",
      "729:\tlearn: 0.9902305\ttotal: 8.59s\tremaining: 3.17s\n",
      "730:\tlearn: 0.9902435\ttotal: 8.6s\tremaining: 3.16s\n",
      "731:\tlearn: 0.9902478\ttotal: 8.61s\tremaining: 3.15s\n",
      "732:\tlearn: 0.9902478\ttotal: 8.62s\tremaining: 3.14s\n",
      "733:\tlearn: 0.9902478\ttotal: 8.63s\tremaining: 3.13s\n",
      "734:\tlearn: 0.9902090\ttotal: 8.63s\tremaining: 3.11s\n",
      "735:\tlearn: 0.9902133\ttotal: 8.64s\tremaining: 3.1s\n",
      "736:\tlearn: 0.9902176\ttotal: 8.66s\tremaining: 3.09s\n",
      "737:\tlearn: 0.9902736\ttotal: 8.67s\tremaining: 3.08s\n",
      "738:\tlearn: 0.9903512\ttotal: 8.68s\tremaining: 3.06s\n",
      "739:\tlearn: 0.9903081\ttotal: 8.69s\tremaining: 3.05s\n",
      "740:\tlearn: 0.9903469\ttotal: 8.7s\tremaining: 3.04s\n",
      "741:\tlearn: 0.9903512\ttotal: 8.71s\tremaining: 3.03s\n",
      "742:\tlearn: 0.9903124\ttotal: 8.72s\tremaining: 3.02s\n",
      "743:\tlearn: 0.9903167\ttotal: 8.73s\tremaining: 3s\n",
      "744:\tlearn: 0.9904158\ttotal: 8.74s\tremaining: 2.99s\n",
      "745:\tlearn: 0.9904244\ttotal: 8.75s\tremaining: 2.98s\n",
      "746:\tlearn: 0.9904115\ttotal: 8.76s\tremaining: 2.97s\n",
      "747:\tlearn: 0.9903813\ttotal: 8.77s\tremaining: 2.95s\n",
      "748:\tlearn: 0.9903813\ttotal: 8.78s\tremaining: 2.94s\n",
      "749:\tlearn: 0.9903727\ttotal: 8.79s\tremaining: 2.93s\n",
      "750:\tlearn: 0.9903684\ttotal: 8.8s\tremaining: 2.92s\n",
      "751:\tlearn: 0.9903684\ttotal: 8.81s\tremaining: 2.9s\n",
      "752:\tlearn: 0.9903641\ttotal: 8.82s\tremaining: 2.89s\n",
      "753:\tlearn: 0.9903684\ttotal: 8.83s\tremaining: 2.88s\n",
      "754:\tlearn: 0.9904115\ttotal: 8.84s\tremaining: 2.87s\n",
      "755:\tlearn: 0.9904072\ttotal: 8.85s\tremaining: 2.85s\n",
      "756:\tlearn: 0.9904072\ttotal: 8.86s\tremaining: 2.84s\n",
      "757:\tlearn: 0.9904115\ttotal: 8.87s\tremaining: 2.83s\n",
      "758:\tlearn: 0.9904158\ttotal: 8.88s\tremaining: 2.82s\n",
      "759:\tlearn: 0.9904201\ttotal: 8.89s\tremaining: 2.81s\n",
      "760:\tlearn: 0.9904589\ttotal: 8.9s\tremaining: 2.79s\n",
      "761:\tlearn: 0.9904761\ttotal: 8.91s\tremaining: 2.78s\n",
      "762:\tlearn: 0.9904804\ttotal: 8.93s\tremaining: 2.77s\n",
      "763:\tlearn: 0.9904847\ttotal: 8.94s\tremaining: 2.76s\n",
      "764:\tlearn: 0.9904847\ttotal: 8.95s\tremaining: 2.75s\n",
      "765:\tlearn: 0.9904976\ttotal: 8.97s\tremaining: 2.74s\n",
      "766:\tlearn: 0.9905019\ttotal: 8.98s\tremaining: 2.73s\n",
      "767:\tlearn: 0.9905106\ttotal: 9s\tremaining: 2.72s\n",
      "768:\tlearn: 0.9905321\ttotal: 9.01s\tremaining: 2.71s\n",
      "769:\tlearn: 0.9905364\ttotal: 9.03s\tremaining: 2.7s\n",
      "770:\tlearn: 0.9905493\ttotal: 9.04s\tremaining: 2.69s\n",
      "771:\tlearn: 0.9905493\ttotal: 9.05s\tremaining: 2.67s\n",
      "772:\tlearn: 0.9905493\ttotal: 9.07s\tremaining: 2.66s\n",
      "773:\tlearn: 0.9905062\ttotal: 9.08s\tremaining: 2.65s\n",
      "774:\tlearn: 0.9906484\ttotal: 9.1s\tremaining: 2.64s\n",
      "775:\tlearn: 0.9906527\ttotal: 9.11s\tremaining: 2.63s\n",
      "776:\tlearn: 0.9906958\ttotal: 9.12s\tremaining: 2.62s\n",
      "777:\tlearn: 0.9906958\ttotal: 9.14s\tremaining: 2.61s\n",
      "778:\tlearn: 0.9906958\ttotal: 9.15s\tremaining: 2.6s\n",
      "779:\tlearn: 0.9907001\ttotal: 9.17s\tremaining: 2.58s\n",
      "780:\tlearn: 0.9907130\ttotal: 9.18s\tremaining: 2.58s\n",
      "781:\tlearn: 0.9907044\ttotal: 9.2s\tremaining: 2.56s\n",
      "782:\tlearn: 0.9907087\ttotal: 9.21s\tremaining: 2.55s\n",
      "783:\tlearn: 0.9907130\ttotal: 9.23s\tremaining: 2.54s\n",
      "784:\tlearn: 0.9907217\ttotal: 9.24s\tremaining: 2.53s\n",
      "785:\tlearn: 0.9907260\ttotal: 9.25s\tremaining: 2.52s\n",
      "786:\tlearn: 0.9907260\ttotal: 9.27s\tremaining: 2.51s\n",
      "787:\tlearn: 0.9907260\ttotal: 9.28s\tremaining: 2.5s\n",
      "788:\tlearn: 0.9907303\ttotal: 9.3s\tremaining: 2.49s\n",
      "789:\tlearn: 0.9907647\ttotal: 9.31s\tremaining: 2.47s\n",
      "790:\tlearn: 0.9907647\ttotal: 9.32s\tremaining: 2.46s\n",
      "791:\tlearn: 0.9907647\ttotal: 9.33s\tremaining: 2.45s\n",
      "792:\tlearn: 0.9907647\ttotal: 9.34s\tremaining: 2.44s\n",
      "793:\tlearn: 0.9908121\ttotal: 9.35s\tremaining: 2.42s\n",
      "794:\tlearn: 0.9908164\ttotal: 9.36s\tremaining: 2.41s\n",
      "795:\tlearn: 0.9908207\ttotal: 9.37s\tremaining: 2.4s\n",
      "796:\tlearn: 0.9908250\ttotal: 9.38s\tremaining: 2.39s\n",
      "797:\tlearn: 0.9908250\ttotal: 9.39s\tremaining: 2.38s\n",
      "798:\tlearn: 0.9908250\ttotal: 9.4s\tremaining: 2.36s\n",
      "799:\tlearn: 0.9908250\ttotal: 9.41s\tremaining: 2.35s\n",
      "800:\tlearn: 0.9908250\ttotal: 9.42s\tremaining: 2.34s\n",
      "801:\tlearn: 0.9907949\ttotal: 9.43s\tremaining: 2.33s\n",
      "802:\tlearn: 0.9907949\ttotal: 9.44s\tremaining: 2.32s\n",
      "803:\tlearn: 0.9907949\ttotal: 9.45s\tremaining: 2.3s\n",
      "804:\tlearn: 0.9907949\ttotal: 9.46s\tremaining: 2.29s\n",
      "805:\tlearn: 0.9908035\ttotal: 9.47s\tremaining: 2.28s\n",
      "806:\tlearn: 0.9907949\ttotal: 9.48s\tremaining: 2.27s\n",
      "807:\tlearn: 0.9907949\ttotal: 9.49s\tremaining: 2.25s\n",
      "808:\tlearn: 0.9907949\ttotal: 9.5s\tremaining: 2.24s\n",
      "809:\tlearn: 0.9907992\ttotal: 9.51s\tremaining: 2.23s\n",
      "810:\tlearn: 0.9908035\ttotal: 9.52s\tremaining: 2.22s\n",
      "811:\tlearn: 0.9908423\ttotal: 9.53s\tremaining: 2.21s\n",
      "812:\tlearn: 0.9908509\ttotal: 9.54s\tremaining: 2.19s\n",
      "813:\tlearn: 0.9908164\ttotal: 9.55s\tremaining: 2.18s\n",
      "814:\tlearn: 0.9908207\ttotal: 9.56s\tremaining: 2.17s\n",
      "815:\tlearn: 0.9908638\ttotal: 9.57s\tremaining: 2.16s\n",
      "816:\tlearn: 0.9908250\ttotal: 9.58s\tremaining: 2.15s\n",
      "817:\tlearn: 0.9908724\ttotal: 9.59s\tremaining: 2.13s\n",
      "818:\tlearn: 0.9908293\ttotal: 9.6s\tremaining: 2.12s\n",
      "819:\tlearn: 0.9908293\ttotal: 9.61s\tremaining: 2.11s\n",
      "820:\tlearn: 0.9908724\ttotal: 9.62s\tremaining: 2.1s\n",
      "821:\tlearn: 0.9908681\ttotal: 9.63s\tremaining: 2.09s\n",
      "822:\tlearn: 0.9908724\ttotal: 9.64s\tremaining: 2.07s\n",
      "823:\tlearn: 0.9908896\ttotal: 9.65s\tremaining: 2.06s\n",
      "824:\tlearn: 0.9908853\ttotal: 9.66s\tremaining: 2.05s\n",
      "825:\tlearn: 0.9908853\ttotal: 9.67s\tremaining: 2.04s\n",
      "826:\tlearn: 0.9908853\ttotal: 9.69s\tremaining: 2.03s\n",
      "827:\tlearn: 0.9908810\ttotal: 9.7s\tremaining: 2.01s\n",
      "828:\tlearn: 0.9908853\ttotal: 9.71s\tremaining: 2s\n",
      "829:\tlearn: 0.9908939\ttotal: 9.72s\tremaining: 1.99s\n",
      "830:\tlearn: 0.9908896\ttotal: 9.73s\tremaining: 1.98s\n",
      "831:\tlearn: 0.9908896\ttotal: 9.75s\tremaining: 1.97s\n",
      "832:\tlearn: 0.9908939\ttotal: 9.76s\tremaining: 1.96s\n",
      "833:\tlearn: 0.9908982\ttotal: 9.78s\tremaining: 1.95s\n",
      "834:\tlearn: 0.9909068\ttotal: 9.79s\tremaining: 1.94s\n",
      "835:\tlearn: 0.9909025\ttotal: 9.81s\tremaining: 1.92s\n",
      "836:\tlearn: 0.9909025\ttotal: 9.82s\tremaining: 1.91s\n",
      "837:\tlearn: 0.9909025\ttotal: 9.84s\tremaining: 1.9s\n",
      "838:\tlearn: 0.9909025\ttotal: 9.85s\tremaining: 1.89s\n",
      "839:\tlearn: 0.9909327\ttotal: 9.86s\tremaining: 1.88s\n",
      "840:\tlearn: 0.9909327\ttotal: 9.88s\tremaining: 1.87s\n",
      "841:\tlearn: 0.9909370\ttotal: 9.89s\tremaining: 1.86s\n",
      "842:\tlearn: 0.9909370\ttotal: 9.91s\tremaining: 1.84s\n",
      "843:\tlearn: 0.9909327\ttotal: 9.92s\tremaining: 1.83s\n",
      "844:\tlearn: 0.9909413\ttotal: 9.93s\tremaining: 1.82s\n",
      "845:\tlearn: 0.9909370\ttotal: 9.95s\tremaining: 1.81s\n",
      "846:\tlearn: 0.9909413\ttotal: 9.96s\tremaining: 1.8s\n",
      "847:\tlearn: 0.9909456\ttotal: 9.97s\tremaining: 1.79s\n",
      "848:\tlearn: 0.9909887\ttotal: 9.99s\tremaining: 1.78s\n",
      "849:\tlearn: 0.9909930\ttotal: 10s\tremaining: 1.76s\n",
      "850:\tlearn: 0.9910016\ttotal: 10s\tremaining: 1.75s\n",
      "851:\tlearn: 0.9909844\ttotal: 10s\tremaining: 1.74s\n",
      "852:\tlearn: 0.9910188\ttotal: 10s\tremaining: 1.73s\n",
      "853:\tlearn: 0.9910274\ttotal: 10.1s\tremaining: 1.72s\n",
      "854:\tlearn: 0.9910361\ttotal: 10.1s\tremaining: 1.71s\n",
      "855:\tlearn: 0.9910318\ttotal: 10.1s\tremaining: 1.7s\n",
      "856:\tlearn: 0.9910361\ttotal: 10.1s\tremaining: 1.69s\n",
      "857:\tlearn: 0.9910361\ttotal: 10.1s\tremaining: 1.67s\n",
      "858:\tlearn: 0.9910318\ttotal: 10.1s\tremaining: 1.66s\n",
      "859:\tlearn: 0.9910318\ttotal: 10.1s\tremaining: 1.65s\n",
      "860:\tlearn: 0.9910404\ttotal: 10.2s\tremaining: 1.64s\n",
      "861:\tlearn: 0.9910404\ttotal: 10.2s\tremaining: 1.63s\n",
      "862:\tlearn: 0.9910447\ttotal: 10.2s\tremaining: 1.61s\n",
      "863:\tlearn: 0.9910533\ttotal: 10.2s\tremaining: 1.6s\n",
      "864:\tlearn: 0.9910576\ttotal: 10.2s\tremaining: 1.59s\n",
      "865:\tlearn: 0.9910576\ttotal: 10.2s\tremaining: 1.58s\n",
      "866:\tlearn: 0.9910576\ttotal: 10.2s\tremaining: 1.57s\n",
      "867:\tlearn: 0.9910619\ttotal: 10.2s\tremaining: 1.56s\n",
      "868:\tlearn: 0.9910576\ttotal: 10.2s\tremaining: 1.54s\n",
      "869:\tlearn: 0.9911136\ttotal: 10.3s\tremaining: 1.53s\n",
      "870:\tlearn: 0.9911136\ttotal: 10.3s\tremaining: 1.52s\n",
      "871:\tlearn: 0.9911093\ttotal: 10.3s\tremaining: 1.51s\n",
      "872:\tlearn: 0.9911437\ttotal: 10.3s\tremaining: 1.5s\n",
      "873:\tlearn: 0.9911480\ttotal: 10.3s\tremaining: 1.48s\n",
      "874:\tlearn: 0.9911523\ttotal: 10.3s\tremaining: 1.47s\n",
      "875:\tlearn: 0.9911567\ttotal: 10.3s\tremaining: 1.46s\n",
      "876:\tlearn: 0.9911567\ttotal: 10.3s\tremaining: 1.45s\n",
      "877:\tlearn: 0.9911653\ttotal: 10.3s\tremaining: 1.44s\n",
      "878:\tlearn: 0.9911696\ttotal: 10.3s\tremaining: 1.42s\n",
      "879:\tlearn: 0.9911825\ttotal: 10.4s\tremaining: 1.41s\n",
      "880:\tlearn: 0.9911739\ttotal: 10.4s\tremaining: 1.4s\n",
      "881:\tlearn: 0.9911739\ttotal: 10.4s\tremaining: 1.39s\n",
      "882:\tlearn: 0.9911739\ttotal: 10.4s\tremaining: 1.38s\n",
      "883:\tlearn: 0.9911739\ttotal: 10.4s\tremaining: 1.36s\n",
      "884:\tlearn: 0.9911782\ttotal: 10.4s\tremaining: 1.35s\n",
      "885:\tlearn: 0.9911782\ttotal: 10.4s\tremaining: 1.34s\n",
      "886:\tlearn: 0.9911782\ttotal: 10.4s\tremaining: 1.33s\n",
      "887:\tlearn: 0.9911868\ttotal: 10.4s\tremaining: 1.32s\n",
      "888:\tlearn: 0.9911954\ttotal: 10.4s\tremaining: 1.3s\n",
      "889:\tlearn: 0.9911954\ttotal: 10.5s\tremaining: 1.29s\n",
      "890:\tlearn: 0.9912040\ttotal: 10.5s\tremaining: 1.28s\n",
      "891:\tlearn: 0.9911954\ttotal: 10.5s\tremaining: 1.27s\n",
      "892:\tlearn: 0.9911997\ttotal: 10.5s\tremaining: 1.26s\n",
      "893:\tlearn: 0.9911954\ttotal: 10.5s\tremaining: 1.24s\n",
      "894:\tlearn: 0.9912256\ttotal: 10.5s\tremaining: 1.23s\n",
      "895:\tlearn: 0.9912299\ttotal: 10.5s\tremaining: 1.22s\n",
      "896:\tlearn: 0.9912385\ttotal: 10.5s\tremaining: 1.21s\n",
      "897:\tlearn: 0.9912256\ttotal: 10.5s\tremaining: 1.2s\n",
      "898:\tlearn: 0.9912256\ttotal: 10.5s\tremaining: 1.18s\n",
      "899:\tlearn: 0.9912342\ttotal: 10.6s\tremaining: 1.17s\n",
      "900:\tlearn: 0.9912643\ttotal: 10.6s\tremaining: 1.16s\n",
      "901:\tlearn: 0.9912557\ttotal: 10.6s\tremaining: 1.15s\n",
      "902:\tlearn: 0.9912988\ttotal: 10.6s\tremaining: 1.14s\n",
      "903:\tlearn: 0.9913461\ttotal: 10.6s\tremaining: 1.13s\n",
      "904:\tlearn: 0.9913461\ttotal: 10.6s\tremaining: 1.12s\n",
      "905:\tlearn: 0.9913461\ttotal: 10.6s\tremaining: 1.1s\n",
      "906:\tlearn: 0.9913418\ttotal: 10.7s\tremaining: 1.09s\n",
      "907:\tlearn: 0.9913461\ttotal: 10.7s\tremaining: 1.08s\n",
      "908:\tlearn: 0.9913548\ttotal: 10.7s\tremaining: 1.07s\n",
      "909:\tlearn: 0.9913978\ttotal: 10.7s\tremaining: 1.06s\n",
      "910:\tlearn: 0.9914064\ttotal: 10.7s\tremaining: 1.05s\n",
      "911:\tlearn: 0.9914064\ttotal: 10.7s\tremaining: 1.03s\n",
      "912:\tlearn: 0.9914064\ttotal: 10.7s\tremaining: 1.02s\n",
      "913:\tlearn: 0.9914064\ttotal: 10.8s\tremaining: 1.01s\n",
      "914:\tlearn: 0.9914064\ttotal: 10.8s\tremaining: 1000ms\n",
      "915:\tlearn: 0.9914064\ttotal: 10.8s\tremaining: 988ms\n",
      "916:\tlearn: 0.9914150\ttotal: 10.8s\tremaining: 976ms\n",
      "917:\tlearn: 0.9914667\ttotal: 10.8s\tremaining: 964ms\n",
      "918:\tlearn: 0.9914710\ttotal: 10.8s\tremaining: 952ms\n",
      "919:\tlearn: 0.9914710\ttotal: 10.8s\tremaining: 940ms\n",
      "920:\tlearn: 0.9914667\ttotal: 10.8s\tremaining: 929ms\n",
      "921:\tlearn: 0.9914667\ttotal: 10.8s\tremaining: 917ms\n",
      "922:\tlearn: 0.9914667\ttotal: 10.8s\tremaining: 905ms\n",
      "923:\tlearn: 0.9914667\ttotal: 10.9s\tremaining: 893ms\n",
      "924:\tlearn: 0.9914624\ttotal: 10.9s\tremaining: 881ms\n",
      "925:\tlearn: 0.9914624\ttotal: 10.9s\tremaining: 869ms\n",
      "926:\tlearn: 0.9914624\ttotal: 10.9s\tremaining: 858ms\n",
      "927:\tlearn: 0.9915098\ttotal: 10.9s\tremaining: 846ms\n",
      "928:\tlearn: 0.9915227\ttotal: 10.9s\tremaining: 834ms\n",
      "929:\tlearn: 0.9915270\ttotal: 10.9s\tremaining: 823ms\n",
      "930:\tlearn: 0.9914840\ttotal: 10.9s\tremaining: 811ms\n",
      "931:\tlearn: 0.9914840\ttotal: 11s\tremaining: 800ms\n",
      "932:\tlearn: 0.9914840\ttotal: 11s\tremaining: 788ms\n",
      "933:\tlearn: 0.9914969\ttotal: 11s\tremaining: 776ms\n",
      "934:\tlearn: 0.9914969\ttotal: 11s\tremaining: 765ms\n",
      "935:\tlearn: 0.9915055\ttotal: 11s\tremaining: 753ms\n",
      "936:\tlearn: 0.9915055\ttotal: 11s\tremaining: 742ms\n",
      "937:\tlearn: 0.9915012\ttotal: 11s\tremaining: 730ms\n",
      "938:\tlearn: 0.9915055\ttotal: 11.1s\tremaining: 718ms\n",
      "939:\tlearn: 0.9915098\ttotal: 11.1s\tremaining: 707ms\n",
      "940:\tlearn: 0.9915098\ttotal: 11.1s\tremaining: 695ms\n",
      "941:\tlearn: 0.9915055\ttotal: 11.1s\tremaining: 684ms\n",
      "942:\tlearn: 0.9915485\ttotal: 11.1s\tremaining: 672ms\n",
      "943:\tlearn: 0.9915399\ttotal: 11.1s\tremaining: 660ms\n",
      "944:\tlearn: 0.9915399\ttotal: 11.1s\tremaining: 648ms\n",
      "945:\tlearn: 0.9915399\ttotal: 11.2s\tremaining: 637ms\n",
      "946:\tlearn: 0.9915356\ttotal: 11.2s\tremaining: 625ms\n",
      "947:\tlearn: 0.9915787\ttotal: 11.2s\tremaining: 613ms\n",
      "948:\tlearn: 0.9915830\ttotal: 11.2s\tremaining: 601ms\n",
      "949:\tlearn: 0.9915830\ttotal: 11.2s\tremaining: 589ms\n",
      "950:\tlearn: 0.9915830\ttotal: 11.2s\tremaining: 577ms\n",
      "951:\tlearn: 0.9915399\ttotal: 11.2s\tremaining: 565ms\n",
      "952:\tlearn: 0.9915529\ttotal: 11.2s\tremaining: 553ms\n",
      "953:\tlearn: 0.9915615\ttotal: 11.2s\tremaining: 541ms\n",
      "954:\tlearn: 0.9915270\ttotal: 11.2s\tremaining: 530ms\n",
      "955:\tlearn: 0.9915270\ttotal: 11.3s\tremaining: 518ms\n",
      "956:\tlearn: 0.9915270\ttotal: 11.3s\tremaining: 506ms\n",
      "957:\tlearn: 0.9915270\ttotal: 11.3s\tremaining: 494ms\n",
      "958:\tlearn: 0.9915270\ttotal: 11.3s\tremaining: 482ms\n",
      "959:\tlearn: 0.9915227\ttotal: 11.3s\tremaining: 471ms\n",
      "960:\tlearn: 0.9915227\ttotal: 11.3s\tremaining: 459ms\n",
      "961:\tlearn: 0.9915313\ttotal: 11.3s\tremaining: 447ms\n",
      "962:\tlearn: 0.9915270\ttotal: 11.3s\tremaining: 435ms\n",
      "963:\tlearn: 0.9915227\ttotal: 11.3s\tremaining: 423ms\n",
      "964:\tlearn: 0.9915443\ttotal: 11.3s\tremaining: 411ms\n",
      "965:\tlearn: 0.9915400\ttotal: 11.4s\tremaining: 400ms\n",
      "966:\tlearn: 0.9915357\ttotal: 11.4s\tremaining: 388ms\n",
      "967:\tlearn: 0.9915357\ttotal: 11.4s\tremaining: 376ms\n",
      "968:\tlearn: 0.9915787\ttotal: 11.4s\tremaining: 364ms\n",
      "969:\tlearn: 0.9915744\ttotal: 11.4s\tremaining: 352ms\n",
      "970:\tlearn: 0.9915658\ttotal: 11.4s\tremaining: 341ms\n",
      "971:\tlearn: 0.9915658\ttotal: 11.4s\tremaining: 329ms\n",
      "972:\tlearn: 0.9915658\ttotal: 11.4s\tremaining: 317ms\n",
      "973:\tlearn: 0.9915701\ttotal: 11.4s\tremaining: 305ms\n",
      "974:\tlearn: 0.9915701\ttotal: 11.4s\tremaining: 293ms\n",
      "975:\tlearn: 0.9915744\ttotal: 11.5s\tremaining: 282ms\n",
      "976:\tlearn: 0.9915744\ttotal: 11.5s\tremaining: 270ms\n",
      "977:\tlearn: 0.9915400\ttotal: 11.5s\tremaining: 258ms\n",
      "978:\tlearn: 0.9915744\ttotal: 11.5s\tremaining: 246ms\n",
      "979:\tlearn: 0.9915830\ttotal: 11.5s\tremaining: 235ms\n",
      "980:\tlearn: 0.9915916\ttotal: 11.5s\tremaining: 223ms\n",
      "981:\tlearn: 0.9916261\ttotal: 11.5s\tremaining: 211ms\n",
      "982:\tlearn: 0.9916218\ttotal: 11.5s\tremaining: 199ms\n",
      "983:\tlearn: 0.9916648\ttotal: 11.5s\tremaining: 188ms\n",
      "984:\tlearn: 0.9916174\ttotal: 11.5s\tremaining: 176ms\n",
      "985:\tlearn: 0.9916347\ttotal: 11.6s\tremaining: 164ms\n",
      "986:\tlearn: 0.9916433\ttotal: 11.6s\tremaining: 152ms\n",
      "987:\tlearn: 0.9916433\ttotal: 11.6s\tremaining: 141ms\n",
      "988:\tlearn: 0.9916433\ttotal: 11.6s\tremaining: 129ms\n",
      "989:\tlearn: 0.9916433\ttotal: 11.6s\tremaining: 117ms\n",
      "990:\tlearn: 0.9917165\ttotal: 11.6s\tremaining: 106ms\n",
      "991:\tlearn: 0.9917122\ttotal: 11.6s\tremaining: 93.9ms\n",
      "992:\tlearn: 0.9916777\ttotal: 11.7s\tremaining: 82.2ms\n",
      "993:\tlearn: 0.9917595\ttotal: 11.7s\tremaining: 70.5ms\n",
      "994:\tlearn: 0.9917509\ttotal: 11.7s\tremaining: 58.8ms\n",
      "995:\tlearn: 0.9917509\ttotal: 11.7s\tremaining: 47ms\n",
      "996:\tlearn: 0.9917509\ttotal: 11.7s\tremaining: 35.2ms\n",
      "997:\tlearn: 0.9917552\ttotal: 11.7s\tremaining: 23.5ms\n",
      "998:\tlearn: 0.9917552\ttotal: 11.7s\tremaining: 11.7ms\n",
      "999:\tlearn: 0.9917724\ttotal: 11.7s\tremaining: 0us\n"
     ]
    }
   ],
   "source": [
    "model_catboost.fit(features_train, target_train);"
   ],
   "metadata": {
    "collapsed": false
   }
  },
  {
   "cell_type": "code",
   "execution_count": 63,
   "metadata": {
    "trusted": false
   },
   "outputs": [
    {
     "name": "stdout",
     "output_type": "stream",
     "text": [
      "F1_score  (on training sample) for CatBoostClassifier: 0.99177\n",
      "Accuracy (on training sample) for CatBoostClassifier: 0.9876013277565466\n"
     ]
    }
   ],
   "source": [
    "print(f'F1_score  (on training sample) for CatBoostClassifier: {model_catboost.best_score_[\"learn\"][\"F1\"]:.5f}')\n",
    "print(f'Accuracy (on training sample) for CatBoostClassifier: {accuracy_score(target_train, model_catboost.predict(features_train))}')"
   ]
  },
  {
   "cell_type": "markdown",
   "metadata": {},
   "source": [
    "### Dummyclassifier"
   ]
  },
  {
   "cell_type": "code",
   "execution_count": 64,
   "metadata": {
    "trusted": false
   },
   "outputs": [
    {
     "name": "stdout",
     "output_type": "stream",
     "text": [
      "F1_score (on training sample) for Dummyclassifier: 0.18448234104087421\n",
      "Accuracy (on training sample) for Dummyclassifier: 0.10161418156992302\n"
     ]
    }
   ],
   "source": [
    "dummy_classifier = DummyClassifier(strategy='constant', random_state=12345, constant=1)\n",
    "dummy_classifier.fit(features_train, target_train)\n",
    "print(f'F1_score (on training sample) for Dummyclassifier: {f1_score(target_train, dummy_classifier.predict(features_train))}')\n",
    "print(f'Accuracy (on training sample) for Dummyclassifier: {accuracy_score(target_train, dummy_classifier.predict(features_train))}')"
   ]
  },
  {
   "cell_type": "markdown",
   "metadata": {},
   "source": [
    "Точность и f1-мера оставляют желать лучшего..."
   ]
  },
  {
   "cell_type": "markdown",
   "source": [
    "## Тестирование"
   ],
   "metadata": {
    "collapsed": false
   }
  },
  {
   "cell_type": "markdown",
   "source": [
    "Лучше всего себя показала модель СatBoost"
   ],
   "metadata": {
    "collapsed": false
   }
  },
  {
   "cell_type": "code",
   "execution_count": 65,
   "outputs": [
    {
     "name": "stdout",
     "output_type": "stream",
     "text": [
      "F1_score (on testing sample) for best_model: 0.9232340922358436\n"
     ]
    }
   ],
   "source": [
    "best_model = model_catboost\n",
    "print(f'F1_score (on testing sample) for best_model: {f1_score(target_test, best_model.predict(features_test))}')"
   ],
   "metadata": {
    "collapsed": false
   }
  },
  {
   "cell_type": "markdown",
   "source": [
    "## Вывод"
   ],
   "metadata": {
    "collapsed": false
   }
  },
  {
   "cell_type": "markdown",
   "source": [
    "В данном проекте я обучал модель классифицировать комментарии на позитивные и негативные на датасете интернет-магазина \"Викишоп\".\n",
    "\n",
    "Список задач, которые я выполнил:\n",
    "\n",
    "1) Загрузил и подготовил данные (проверил данные на пропуски, обнаружил дисбаланс классов, токенизировал твиты\n",
    "\n",
    "2) Разделил данные на обучающую и тестовую выборку (со стратификацией) и сбалансировал классы таргета\n",
    "\n",
    "3) Обучил модель линейной регресии и модель быстрого градиентного бустинга CatBoostClassifier\n",
    "\n",
    "4) Оценил модели по f1-мере (на тренировочной выборке) и выбрал из них лучшую\n",
    "\n",
    "5) Протестировал лучшую модель на тестовой выборке"
   ],
   "metadata": {
    "collapsed": false
   }
  },
  {
   "cell_type": "markdown",
   "metadata": {},
   "source": [
    "## Чек-лист проверки"
   ]
  },
  {
   "cell_type": "markdown",
   "metadata": {},
   "source": [
    "- [x]  Jupyter Notebook открыт\n",
    "- [x]  Весь код выполняется без ошибок\n",
    "- [x]  Ячейки с кодом расположены в порядке исполнения\n",
    "- [x]  Данные загружены и подготовлены\n",
    "- [x]  Модели обучены\n",
    "- [x]  Значение метрики *F1* не меньше 0.75\n",
    "- [x]  Выводы написаны"
   ]
  }
 ],
 "metadata": {
  "kernelspec": {
   "display_name": "Python 3 (ipykernel)",
   "language": "python",
   "name": "python3"
  },
  "language_info": {
   "codemirror_mode": {
    "name": "ipython",
    "version": 3
   },
   "file_extension": ".py",
   "mimetype": "text/x-python",
   "name": "python",
   "nbconvert_exporter": "python",
   "pygments_lexer": "ipython3",
   "version": "3.9.5"
  },
  "toc": {
   "base_numbering": 1,
   "nav_menu": {},
   "number_sections": true,
   "sideBar": true,
   "skip_h1_title": true,
   "title_cell": "Содержание",
   "title_sidebar": "Contents",
   "toc_cell": true,
   "toc_position": {
    "height": "calc(100% - 180px)",
    "left": "10px",
    "top": "150px",
    "width": "302.391px"
   },
   "toc_section_display": true,
   "toc_window_display": false
  }
 },
 "nbformat": 4,
 "nbformat_minor": 2
}
